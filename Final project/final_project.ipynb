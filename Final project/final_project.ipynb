{
 "cells": [
  {
   "cell_type": "markdown",
   "metadata": {},
   "source": [
    "# Final Project - Coursera\n",
    "\n",
    "\n",
    "## Goal\n",
    " - This challenge serves as final project for the \"How to win a data science competition\" Coursera course.\n",
    " - In this competition you will work with a challenging time-series dataset consisting of daily sales data, kindly provided by one of the largest Russian software firms - 1C Company. \n",
    " - We are asking you to predict total sales for every product and store in the next month. By solving this competition you will be able to apply and enhance your data science skills."
   ]
  },
  {
   "cell_type": "markdown",
   "metadata": {},
   "source": [
    "# Load libraries"
   ]
  },
  {
   "cell_type": "code",
   "execution_count": 1,
   "metadata": {
    "scrolled": true
   },
   "outputs": [
    {
     "name": "stderr",
     "output_type": "stream",
     "text": [
      "/anaconda3/lib/python3.7/site-packages/lightgbm/__init__.py:46: UserWarning: Starting from version 2.2.1, the library file in distribution wheels for macOS is built by the Apple Clang (Xcode_8.3.3) compiler.\n",
      "This means that in case of installing LightGBM from PyPI via the ``pip install lightgbm`` command, you don't need to install the gcc compiler anymore.\n",
      "Instead of that, you need to install the OpenMP library, which is required for running LightGBM on the system with the Apple Clang compiler.\n",
      "You can install the OpenMP library by the following command: ``brew install libomp``.\n",
      "  \"You can install the OpenMP library by the following command: ``brew install libomp``.\", UserWarning)\n"
     ]
    }
   ],
   "source": [
    "# Importando bibliotecas que serao utilizadas neste projeto\n",
    "import pandas as pd\n",
    "import numpy as np\n",
    "import seaborn as sns\n",
    "from itertools import product\n",
    "from multiprocessing import Pool\n",
    "import matplotlib.pyplot as plt\n",
    "%matplotlib inline\n",
    "from IPython.core.interactiveshell import InteractiveShell\n",
    "InteractiveShell.ast_node_interactivity = \"all\"\n",
    "from multiprocessing import Pool\n",
    "\n",
    "# Models\n",
    "from sklearn import datasets, linear_model\n",
    "from sklearn.metrics import mean_squared_error\n",
    "from sklearn import preprocessing\n",
    "from sklearn.ensemble import RandomForestRegressor\n",
    "from mlxtend.regressor import StackingCVRegressor\n",
    "from lightgbm import LGBMRegressor\n",
    "from xgboost import XGBRegressor\n",
    "import xgboost as xgb\n",
    "from xgboost import plot_importance\n",
    "\n",
    "# Ignore useless warnings\n",
    "import warnings\n",
    "warnings.filterwarnings(action=\"ignore\")\n",
    "\n",
    "import pickle\n",
    "import datetime\n",
    "import time\n",
    "import gc"
   ]
  },
  {
   "cell_type": "markdown",
   "metadata": {},
   "source": [
    "# Import Data"
   ]
  },
  {
   "cell_type": "code",
   "execution_count": 2,
   "metadata": {
    "scrolled": true
   },
   "outputs": [],
   "source": [
    "DATA_FOLDER = 'data/origin/'\n",
    "\n",
    "train           = pd.read_csv(os.path.join(DATA_FOLDER, 'sales_train_v2.csv'))\n",
    "test            = pd.read_csv(os.path.join(DATA_FOLDER, 'test.csv')).set_index('ID')\n",
    "items           = pd.read_csv(os.path.join(DATA_FOLDER, 'items.csv'))\n",
    "item_categories = pd.read_csv(os.path.join(DATA_FOLDER, 'item_categories.csv'))\n",
    "shop            = pd.read_csv(os.path.join(DATA_FOLDER, 'shops.csv'))\n",
    "submission      = pd.read_csv(os.path.join(DATA_FOLDER, 'sample_submission.csv'))"
   ]
  },
  {
   "cell_type": "markdown",
   "metadata": {},
   "source": [
    "# Part 1. EDA & Feature Engineering"
   ]
  },
  {
   "cell_type": "code",
   "execution_count": 3,
   "metadata": {},
   "outputs": [
    {
     "name": "stdout",
     "output_type": "stream",
     "text": [
      "Transactions:  (2935849, 6)\n",
      "Test: (214200, 2)\n",
      "Items:  (22170, 3)\n",
      "Item Categories:  (84, 2)\n",
      "Shops: (60, 2)\n"
     ]
    }
   ],
   "source": [
    "print('Transactions: ', train.shape)\n",
    "print('Test:', test.shape)\n",
    "print('Items: ', items.shape)\n",
    "print('Item Categories: ', item_categories.shape)\n",
    "print('Shops:', shop.shape)"
   ]
  },
  {
   "cell_type": "code",
   "execution_count": 4,
   "metadata": {},
   "outputs": [
    {
     "data": {
      "text/html": [
       "<div>\n",
       "<style scoped>\n",
       "    .dataframe tbody tr th:only-of-type {\n",
       "        vertical-align: middle;\n",
       "    }\n",
       "\n",
       "    .dataframe tbody tr th {\n",
       "        vertical-align: top;\n",
       "    }\n",
       "\n",
       "    .dataframe thead th {\n",
       "        text-align: right;\n",
       "    }\n",
       "</style>\n",
       "<table border=\"1\" class=\"dataframe\">\n",
       "  <thead>\n",
       "    <tr style=\"text-align: right;\">\n",
       "      <th></th>\n",
       "      <th>shop_name</th>\n",
       "      <th>shop_id</th>\n",
       "    </tr>\n",
       "  </thead>\n",
       "  <tbody>\n",
       "    <tr>\n",
       "      <th>0</th>\n",
       "      <td>!Якутск Орджоникидзе, 56 фран</td>\n",
       "      <td>0</td>\n",
       "    </tr>\n",
       "    <tr>\n",
       "      <th>1</th>\n",
       "      <td>!Якутск ТЦ \"Центральный\" фран</td>\n",
       "      <td>1</td>\n",
       "    </tr>\n",
       "    <tr>\n",
       "      <th>2</th>\n",
       "      <td>Адыгея ТЦ \"Мега\"</td>\n",
       "      <td>2</td>\n",
       "    </tr>\n",
       "    <tr>\n",
       "      <th>3</th>\n",
       "      <td>Балашиха ТРК \"Октябрь-Киномир\"</td>\n",
       "      <td>3</td>\n",
       "    </tr>\n",
       "    <tr>\n",
       "      <th>4</th>\n",
       "      <td>Волжский ТЦ \"Волга Молл\"</td>\n",
       "      <td>4</td>\n",
       "    </tr>\n",
       "  </tbody>\n",
       "</table>\n",
       "</div>"
      ],
      "text/plain": [
       "                        shop_name  shop_id\n",
       "0   !Якутск Орджоникидзе, 56 фран        0\n",
       "1   !Якутск ТЦ \"Центральный\" фран        1\n",
       "2                Адыгея ТЦ \"Мега\"        2\n",
       "3  Балашиха ТРК \"Октябрь-Киномир\"        3\n",
       "4        Волжский ТЦ \"Волга Молл\"        4"
      ]
     },
     "execution_count": 4,
     "metadata": {},
     "output_type": "execute_result"
    },
    {
     "data": {
      "text/html": [
       "<div>\n",
       "<style scoped>\n",
       "    .dataframe tbody tr th:only-of-type {\n",
       "        vertical-align: middle;\n",
       "    }\n",
       "\n",
       "    .dataframe tbody tr th {\n",
       "        vertical-align: top;\n",
       "    }\n",
       "\n",
       "    .dataframe thead th {\n",
       "        text-align: right;\n",
       "    }\n",
       "</style>\n",
       "<table border=\"1\" class=\"dataframe\">\n",
       "  <thead>\n",
       "    <tr style=\"text-align: right;\">\n",
       "      <th></th>\n",
       "      <th>shop_id</th>\n",
       "    </tr>\n",
       "  </thead>\n",
       "  <tbody>\n",
       "    <tr>\n",
       "      <th>count</th>\n",
       "      <td>60.000000</td>\n",
       "    </tr>\n",
       "    <tr>\n",
       "      <th>mean</th>\n",
       "      <td>29.500000</td>\n",
       "    </tr>\n",
       "    <tr>\n",
       "      <th>std</th>\n",
       "      <td>17.464249</td>\n",
       "    </tr>\n",
       "    <tr>\n",
       "      <th>min</th>\n",
       "      <td>0.000000</td>\n",
       "    </tr>\n",
       "    <tr>\n",
       "      <th>25%</th>\n",
       "      <td>14.750000</td>\n",
       "    </tr>\n",
       "    <tr>\n",
       "      <th>50%</th>\n",
       "      <td>29.500000</td>\n",
       "    </tr>\n",
       "    <tr>\n",
       "      <th>75%</th>\n",
       "      <td>44.250000</td>\n",
       "    </tr>\n",
       "    <tr>\n",
       "      <th>max</th>\n",
       "      <td>59.000000</td>\n",
       "    </tr>\n",
       "  </tbody>\n",
       "</table>\n",
       "</div>"
      ],
      "text/plain": [
       "         shop_id\n",
       "count  60.000000\n",
       "mean   29.500000\n",
       "std    17.464249\n",
       "min     0.000000\n",
       "25%    14.750000\n",
       "50%    29.500000\n",
       "75%    44.250000\n",
       "max    59.000000"
      ]
     },
     "execution_count": 4,
     "metadata": {},
     "output_type": "execute_result"
    },
    {
     "data": {
      "text/plain": [
       "array([ 0,  1,  2,  3,  4,  5,  6,  7,  8,  9, 10, 11, 12, 13, 14, 15, 16,\n",
       "       17, 18, 19, 20, 21, 22, 23, 24, 25, 26, 27, 28, 29, 30, 31, 32, 33,\n",
       "       34, 35, 36, 37, 38, 39, 40, 41, 42, 43, 44, 45, 46, 47, 48, 49, 50,\n",
       "       51, 52, 53, 54, 55, 56, 57, 58, 59])"
      ]
     },
     "execution_count": 4,
     "metadata": {},
     "output_type": "execute_result"
    }
   ],
   "source": [
    "shop.head()\n",
    "shop.describe()\n",
    "shop.shop_id.unique()"
   ]
  },
  {
   "cell_type": "code",
   "execution_count": 5,
   "metadata": {
    "scrolled": false
   },
   "outputs": [
    {
     "data": {
      "text/html": [
       "<div>\n",
       "<style scoped>\n",
       "    .dataframe tbody tr th:only-of-type {\n",
       "        vertical-align: middle;\n",
       "    }\n",
       "\n",
       "    .dataframe tbody tr th {\n",
       "        vertical-align: top;\n",
       "    }\n",
       "\n",
       "    .dataframe thead th {\n",
       "        text-align: right;\n",
       "    }\n",
       "</style>\n",
       "<table border=\"1\" class=\"dataframe\">\n",
       "  <thead>\n",
       "    <tr style=\"text-align: right;\">\n",
       "      <th></th>\n",
       "      <th>item_category_name</th>\n",
       "      <th>item_category_id</th>\n",
       "    </tr>\n",
       "  </thead>\n",
       "  <tbody>\n",
       "    <tr>\n",
       "      <th>0</th>\n",
       "      <td>PC - Гарнитуры/Наушники</td>\n",
       "      <td>0</td>\n",
       "    </tr>\n",
       "    <tr>\n",
       "      <th>1</th>\n",
       "      <td>Аксессуары - PS2</td>\n",
       "      <td>1</td>\n",
       "    </tr>\n",
       "    <tr>\n",
       "      <th>2</th>\n",
       "      <td>Аксессуары - PS3</td>\n",
       "      <td>2</td>\n",
       "    </tr>\n",
       "    <tr>\n",
       "      <th>3</th>\n",
       "      <td>Аксессуары - PS4</td>\n",
       "      <td>3</td>\n",
       "    </tr>\n",
       "    <tr>\n",
       "      <th>4</th>\n",
       "      <td>Аксессуары - PSP</td>\n",
       "      <td>4</td>\n",
       "    </tr>\n",
       "  </tbody>\n",
       "</table>\n",
       "</div>"
      ],
      "text/plain": [
       "        item_category_name  item_category_id\n",
       "0  PC - Гарнитуры/Наушники                 0\n",
       "1         Аксессуары - PS2                 1\n",
       "2         Аксессуары - PS3                 2\n",
       "3         Аксессуары - PS4                 3\n",
       "4         Аксессуары - PSP                 4"
      ]
     },
     "execution_count": 5,
     "metadata": {},
     "output_type": "execute_result"
    },
    {
     "data": {
      "text/html": [
       "<div>\n",
       "<style scoped>\n",
       "    .dataframe tbody tr th:only-of-type {\n",
       "        vertical-align: middle;\n",
       "    }\n",
       "\n",
       "    .dataframe tbody tr th {\n",
       "        vertical-align: top;\n",
       "    }\n",
       "\n",
       "    .dataframe thead th {\n",
       "        text-align: right;\n",
       "    }\n",
       "</style>\n",
       "<table border=\"1\" class=\"dataframe\">\n",
       "  <thead>\n",
       "    <tr style=\"text-align: right;\">\n",
       "      <th></th>\n",
       "      <th>item_category_id</th>\n",
       "    </tr>\n",
       "  </thead>\n",
       "  <tbody>\n",
       "    <tr>\n",
       "      <th>count</th>\n",
       "      <td>84.000000</td>\n",
       "    </tr>\n",
       "    <tr>\n",
       "      <th>mean</th>\n",
       "      <td>41.500000</td>\n",
       "    </tr>\n",
       "    <tr>\n",
       "      <th>std</th>\n",
       "      <td>24.392622</td>\n",
       "    </tr>\n",
       "    <tr>\n",
       "      <th>min</th>\n",
       "      <td>0.000000</td>\n",
       "    </tr>\n",
       "    <tr>\n",
       "      <th>25%</th>\n",
       "      <td>20.750000</td>\n",
       "    </tr>\n",
       "    <tr>\n",
       "      <th>50%</th>\n",
       "      <td>41.500000</td>\n",
       "    </tr>\n",
       "    <tr>\n",
       "      <th>75%</th>\n",
       "      <td>62.250000</td>\n",
       "    </tr>\n",
       "    <tr>\n",
       "      <th>max</th>\n",
       "      <td>83.000000</td>\n",
       "    </tr>\n",
       "  </tbody>\n",
       "</table>\n",
       "</div>"
      ],
      "text/plain": [
       "       item_category_id\n",
       "count         84.000000\n",
       "mean          41.500000\n",
       "std           24.392622\n",
       "min            0.000000\n",
       "25%           20.750000\n",
       "50%           41.500000\n",
       "75%           62.250000\n",
       "max           83.000000"
      ]
     },
     "execution_count": 5,
     "metadata": {},
     "output_type": "execute_result"
    },
    {
     "data": {
      "text/plain": [
       "array([ 0,  1,  2,  3,  4,  5,  6,  7,  8,  9, 10, 11, 12, 13, 14, 15, 16,\n",
       "       17, 18, 19, 20, 21, 22, 23, 24, 25, 26, 27, 28, 29, 30, 31, 32, 33,\n",
       "       34, 35, 36, 37, 38, 39, 40, 41, 42, 43, 44, 45, 46, 47, 48, 49, 50,\n",
       "       51, 52, 53, 54, 55, 56, 57, 58, 59, 60, 61, 62, 63, 64, 65, 66, 67,\n",
       "       68, 69, 70, 71, 72, 73, 74, 75, 76, 77, 78, 79, 80, 81, 82, 83])"
      ]
     },
     "execution_count": 5,
     "metadata": {},
     "output_type": "execute_result"
    }
   ],
   "source": [
    "item_categories.head()\n",
    "item_categories.describe()\n",
    "item_categories.item_category_id.unique()"
   ]
  },
  {
   "cell_type": "code",
   "execution_count": 6,
   "metadata": {
    "scrolled": false
   },
   "outputs": [
    {
     "data": {
      "text/html": [
       "<div>\n",
       "<style scoped>\n",
       "    .dataframe tbody tr th:only-of-type {\n",
       "        vertical-align: middle;\n",
       "    }\n",
       "\n",
       "    .dataframe tbody tr th {\n",
       "        vertical-align: top;\n",
       "    }\n",
       "\n",
       "    .dataframe thead th {\n",
       "        text-align: right;\n",
       "    }\n",
       "</style>\n",
       "<table border=\"1\" class=\"dataframe\">\n",
       "  <thead>\n",
       "    <tr style=\"text-align: right;\">\n",
       "      <th></th>\n",
       "      <th>item_name</th>\n",
       "      <th>item_id</th>\n",
       "      <th>item_category_id</th>\n",
       "    </tr>\n",
       "  </thead>\n",
       "  <tbody>\n",
       "    <tr>\n",
       "      <th>0</th>\n",
       "      <td>! ВО ВЛАСТИ НАВАЖДЕНИЯ (ПЛАСТ.)         D</td>\n",
       "      <td>0</td>\n",
       "      <td>40</td>\n",
       "    </tr>\n",
       "    <tr>\n",
       "      <th>1</th>\n",
       "      <td>!ABBYY FineReader 12 Professional Edition Full...</td>\n",
       "      <td>1</td>\n",
       "      <td>76</td>\n",
       "    </tr>\n",
       "    <tr>\n",
       "      <th>2</th>\n",
       "      <td>***В ЛУЧАХ СЛАВЫ   (UNV)                    D</td>\n",
       "      <td>2</td>\n",
       "      <td>40</td>\n",
       "    </tr>\n",
       "    <tr>\n",
       "      <th>3</th>\n",
       "      <td>***ГОЛУБАЯ ВОЛНА  (Univ)                      D</td>\n",
       "      <td>3</td>\n",
       "      <td>40</td>\n",
       "    </tr>\n",
       "    <tr>\n",
       "      <th>4</th>\n",
       "      <td>***КОРОБКА (СТЕКЛО)                       D</td>\n",
       "      <td>4</td>\n",
       "      <td>40</td>\n",
       "    </tr>\n",
       "  </tbody>\n",
       "</table>\n",
       "</div>"
      ],
      "text/plain": [
       "                                           item_name  item_id  \\\n",
       "0          ! ВО ВЛАСТИ НАВАЖДЕНИЯ (ПЛАСТ.)         D        0   \n",
       "1  !ABBYY FineReader 12 Professional Edition Full...        1   \n",
       "2      ***В ЛУЧАХ СЛАВЫ   (UNV)                    D        2   \n",
       "3    ***ГОЛУБАЯ ВОЛНА  (Univ)                      D        3   \n",
       "4        ***КОРОБКА (СТЕКЛО)                       D        4   \n",
       "\n",
       "   item_category_id  \n",
       "0                40  \n",
       "1                76  \n",
       "2                40  \n",
       "3                40  \n",
       "4                40  "
      ]
     },
     "execution_count": 6,
     "metadata": {},
     "output_type": "execute_result"
    },
    {
     "data": {
      "text/html": [
       "<div>\n",
       "<style scoped>\n",
       "    .dataframe tbody tr th:only-of-type {\n",
       "        vertical-align: middle;\n",
       "    }\n",
       "\n",
       "    .dataframe tbody tr th {\n",
       "        vertical-align: top;\n",
       "    }\n",
       "\n",
       "    .dataframe thead th {\n",
       "        text-align: right;\n",
       "    }\n",
       "</style>\n",
       "<table border=\"1\" class=\"dataframe\">\n",
       "  <thead>\n",
       "    <tr style=\"text-align: right;\">\n",
       "      <th></th>\n",
       "      <th>item_id</th>\n",
       "      <th>item_category_id</th>\n",
       "    </tr>\n",
       "  </thead>\n",
       "  <tbody>\n",
       "    <tr>\n",
       "      <th>count</th>\n",
       "      <td>22170.00000</td>\n",
       "      <td>22170.000000</td>\n",
       "    </tr>\n",
       "    <tr>\n",
       "      <th>mean</th>\n",
       "      <td>11084.50000</td>\n",
       "      <td>46.290753</td>\n",
       "    </tr>\n",
       "    <tr>\n",
       "      <th>std</th>\n",
       "      <td>6400.07207</td>\n",
       "      <td>15.941486</td>\n",
       "    </tr>\n",
       "    <tr>\n",
       "      <th>min</th>\n",
       "      <td>0.00000</td>\n",
       "      <td>0.000000</td>\n",
       "    </tr>\n",
       "    <tr>\n",
       "      <th>25%</th>\n",
       "      <td>5542.25000</td>\n",
       "      <td>37.000000</td>\n",
       "    </tr>\n",
       "    <tr>\n",
       "      <th>50%</th>\n",
       "      <td>11084.50000</td>\n",
       "      <td>40.000000</td>\n",
       "    </tr>\n",
       "    <tr>\n",
       "      <th>75%</th>\n",
       "      <td>16626.75000</td>\n",
       "      <td>58.000000</td>\n",
       "    </tr>\n",
       "    <tr>\n",
       "      <th>max</th>\n",
       "      <td>22169.00000</td>\n",
       "      <td>83.000000</td>\n",
       "    </tr>\n",
       "  </tbody>\n",
       "</table>\n",
       "</div>"
      ],
      "text/plain": [
       "           item_id  item_category_id\n",
       "count  22170.00000      22170.000000\n",
       "mean   11084.50000         46.290753\n",
       "std     6400.07207         15.941486\n",
       "min        0.00000          0.000000\n",
       "25%     5542.25000         37.000000\n",
       "50%    11084.50000         40.000000\n",
       "75%    16626.75000         58.000000\n",
       "max    22169.00000         83.000000"
      ]
     },
     "execution_count": 6,
     "metadata": {},
     "output_type": "execute_result"
    },
    {
     "data": {
      "text/plain": [
       "22170"
      ]
     },
     "execution_count": 6,
     "metadata": {},
     "output_type": "execute_result"
    }
   ],
   "source": [
    "items.head()\n",
    "items.describe()\n",
    "items.item_id.unique().shape[0]"
   ]
  },
  {
   "cell_type": "code",
   "execution_count": 7,
   "metadata": {
    "scrolled": false
   },
   "outputs": [
    {
     "data": {
      "text/html": [
       "<div>\n",
       "<style scoped>\n",
       "    .dataframe tbody tr th:only-of-type {\n",
       "        vertical-align: middle;\n",
       "    }\n",
       "\n",
       "    .dataframe tbody tr th {\n",
       "        vertical-align: top;\n",
       "    }\n",
       "\n",
       "    .dataframe thead th {\n",
       "        text-align: right;\n",
       "    }\n",
       "</style>\n",
       "<table border=\"1\" class=\"dataframe\">\n",
       "  <thead>\n",
       "    <tr style=\"text-align: right;\">\n",
       "      <th></th>\n",
       "      <th>shop_id</th>\n",
       "      <th>item_id</th>\n",
       "    </tr>\n",
       "    <tr>\n",
       "      <th>ID</th>\n",
       "      <th></th>\n",
       "      <th></th>\n",
       "    </tr>\n",
       "  </thead>\n",
       "  <tbody>\n",
       "    <tr>\n",
       "      <th>0</th>\n",
       "      <td>5</td>\n",
       "      <td>5037</td>\n",
       "    </tr>\n",
       "    <tr>\n",
       "      <th>1</th>\n",
       "      <td>5</td>\n",
       "      <td>5320</td>\n",
       "    </tr>\n",
       "    <tr>\n",
       "      <th>2</th>\n",
       "      <td>5</td>\n",
       "      <td>5233</td>\n",
       "    </tr>\n",
       "    <tr>\n",
       "      <th>3</th>\n",
       "      <td>5</td>\n",
       "      <td>5232</td>\n",
       "    </tr>\n",
       "    <tr>\n",
       "      <th>4</th>\n",
       "      <td>5</td>\n",
       "      <td>5268</td>\n",
       "    </tr>\n",
       "  </tbody>\n",
       "</table>\n",
       "</div>"
      ],
      "text/plain": [
       "    shop_id  item_id\n",
       "ID                  \n",
       "0         5     5037\n",
       "1         5     5320\n",
       "2         5     5233\n",
       "3         5     5232\n",
       "4         5     5268"
      ]
     },
     "execution_count": 7,
     "metadata": {},
     "output_type": "execute_result"
    },
    {
     "data": {
      "text/html": [
       "<div>\n",
       "<style scoped>\n",
       "    .dataframe tbody tr th:only-of-type {\n",
       "        vertical-align: middle;\n",
       "    }\n",
       "\n",
       "    .dataframe tbody tr th {\n",
       "        vertical-align: top;\n",
       "    }\n",
       "\n",
       "    .dataframe thead th {\n",
       "        text-align: right;\n",
       "    }\n",
       "</style>\n",
       "<table border=\"1\" class=\"dataframe\">\n",
       "  <thead>\n",
       "    <tr style=\"text-align: right;\">\n",
       "      <th></th>\n",
       "      <th>ID</th>\n",
       "      <th>item_cnt_month</th>\n",
       "    </tr>\n",
       "  </thead>\n",
       "  <tbody>\n",
       "    <tr>\n",
       "      <th>0</th>\n",
       "      <td>0</td>\n",
       "      <td>0.5</td>\n",
       "    </tr>\n",
       "    <tr>\n",
       "      <th>1</th>\n",
       "      <td>1</td>\n",
       "      <td>0.5</td>\n",
       "    </tr>\n",
       "    <tr>\n",
       "      <th>2</th>\n",
       "      <td>2</td>\n",
       "      <td>0.5</td>\n",
       "    </tr>\n",
       "    <tr>\n",
       "      <th>3</th>\n",
       "      <td>3</td>\n",
       "      <td>0.5</td>\n",
       "    </tr>\n",
       "    <tr>\n",
       "      <th>4</th>\n",
       "      <td>4</td>\n",
       "      <td>0.5</td>\n",
       "    </tr>\n",
       "  </tbody>\n",
       "</table>\n",
       "</div>"
      ],
      "text/plain": [
       "   ID  item_cnt_month\n",
       "0   0             0.5\n",
       "1   1             0.5\n",
       "2   2             0.5\n",
       "3   3             0.5\n",
       "4   4             0.5"
      ]
     },
     "execution_count": 7,
     "metadata": {},
     "output_type": "execute_result"
    }
   ],
   "source": [
    "test.head()\n",
    "submission.head()"
   ]
  },
  {
   "cell_type": "code",
   "execution_count": 8,
   "metadata": {},
   "outputs": [
    {
     "data": {
      "text/html": [
       "<div>\n",
       "<style scoped>\n",
       "    .dataframe tbody tr th:only-of-type {\n",
       "        vertical-align: middle;\n",
       "    }\n",
       "\n",
       "    .dataframe tbody tr th {\n",
       "        vertical-align: top;\n",
       "    }\n",
       "\n",
       "    .dataframe thead th {\n",
       "        text-align: right;\n",
       "    }\n",
       "</style>\n",
       "<table border=\"1\" class=\"dataframe\">\n",
       "  <thead>\n",
       "    <tr style=\"text-align: right;\">\n",
       "      <th></th>\n",
       "      <th>date</th>\n",
       "      <th>date_block_num</th>\n",
       "      <th>shop_id</th>\n",
       "      <th>item_id</th>\n",
       "      <th>item_price</th>\n",
       "      <th>item_cnt_day</th>\n",
       "    </tr>\n",
       "  </thead>\n",
       "  <tbody>\n",
       "    <tr>\n",
       "      <th>0</th>\n",
       "      <td>02.01.2013</td>\n",
       "      <td>0</td>\n",
       "      <td>59</td>\n",
       "      <td>22154</td>\n",
       "      <td>999.00</td>\n",
       "      <td>1.0</td>\n",
       "    </tr>\n",
       "    <tr>\n",
       "      <th>1</th>\n",
       "      <td>03.01.2013</td>\n",
       "      <td>0</td>\n",
       "      <td>25</td>\n",
       "      <td>2552</td>\n",
       "      <td>899.00</td>\n",
       "      <td>1.0</td>\n",
       "    </tr>\n",
       "    <tr>\n",
       "      <th>2</th>\n",
       "      <td>05.01.2013</td>\n",
       "      <td>0</td>\n",
       "      <td>25</td>\n",
       "      <td>2552</td>\n",
       "      <td>899.00</td>\n",
       "      <td>-1.0</td>\n",
       "    </tr>\n",
       "    <tr>\n",
       "      <th>3</th>\n",
       "      <td>06.01.2013</td>\n",
       "      <td>0</td>\n",
       "      <td>25</td>\n",
       "      <td>2554</td>\n",
       "      <td>1709.05</td>\n",
       "      <td>1.0</td>\n",
       "    </tr>\n",
       "    <tr>\n",
       "      <th>4</th>\n",
       "      <td>15.01.2013</td>\n",
       "      <td>0</td>\n",
       "      <td>25</td>\n",
       "      <td>2555</td>\n",
       "      <td>1099.00</td>\n",
       "      <td>1.0</td>\n",
       "    </tr>\n",
       "  </tbody>\n",
       "</table>\n",
       "</div>"
      ],
      "text/plain": [
       "         date  date_block_num  shop_id  item_id  item_price  item_cnt_day\n",
       "0  02.01.2013               0       59    22154      999.00           1.0\n",
       "1  03.01.2013               0       25     2552      899.00           1.0\n",
       "2  05.01.2013               0       25     2552      899.00          -1.0\n",
       "3  06.01.2013               0       25     2554     1709.05           1.0\n",
       "4  15.01.2013               0       25     2555     1099.00           1.0"
      ]
     },
     "execution_count": 8,
     "metadata": {},
     "output_type": "execute_result"
    },
    {
     "data": {
      "text/html": [
       "<div>\n",
       "<style scoped>\n",
       "    .dataframe tbody tr th:only-of-type {\n",
       "        vertical-align: middle;\n",
       "    }\n",
       "\n",
       "    .dataframe tbody tr th {\n",
       "        vertical-align: top;\n",
       "    }\n",
       "\n",
       "    .dataframe thead th {\n",
       "        text-align: right;\n",
       "    }\n",
       "</style>\n",
       "<table border=\"1\" class=\"dataframe\">\n",
       "  <thead>\n",
       "    <tr style=\"text-align: right;\">\n",
       "      <th></th>\n",
       "      <th>date_block_num</th>\n",
       "      <th>shop_id</th>\n",
       "      <th>item_id</th>\n",
       "      <th>item_price</th>\n",
       "      <th>item_cnt_day</th>\n",
       "    </tr>\n",
       "  </thead>\n",
       "  <tbody>\n",
       "    <tr>\n",
       "      <th>count</th>\n",
       "      <td>2.935849e+06</td>\n",
       "      <td>2.935849e+06</td>\n",
       "      <td>2.935849e+06</td>\n",
       "      <td>2.935849e+06</td>\n",
       "      <td>2.935849e+06</td>\n",
       "    </tr>\n",
       "    <tr>\n",
       "      <th>mean</th>\n",
       "      <td>1.456991e+01</td>\n",
       "      <td>3.300173e+01</td>\n",
       "      <td>1.019723e+04</td>\n",
       "      <td>8.908532e+02</td>\n",
       "      <td>1.242641e+00</td>\n",
       "    </tr>\n",
       "    <tr>\n",
       "      <th>std</th>\n",
       "      <td>9.422988e+00</td>\n",
       "      <td>1.622697e+01</td>\n",
       "      <td>6.324297e+03</td>\n",
       "      <td>1.729800e+03</td>\n",
       "      <td>2.618834e+00</td>\n",
       "    </tr>\n",
       "    <tr>\n",
       "      <th>min</th>\n",
       "      <td>0.000000e+00</td>\n",
       "      <td>0.000000e+00</td>\n",
       "      <td>0.000000e+00</td>\n",
       "      <td>-1.000000e+00</td>\n",
       "      <td>-2.200000e+01</td>\n",
       "    </tr>\n",
       "    <tr>\n",
       "      <th>25%</th>\n",
       "      <td>7.000000e+00</td>\n",
       "      <td>2.200000e+01</td>\n",
       "      <td>4.476000e+03</td>\n",
       "      <td>2.490000e+02</td>\n",
       "      <td>1.000000e+00</td>\n",
       "    </tr>\n",
       "    <tr>\n",
       "      <th>50%</th>\n",
       "      <td>1.400000e+01</td>\n",
       "      <td>3.100000e+01</td>\n",
       "      <td>9.343000e+03</td>\n",
       "      <td>3.990000e+02</td>\n",
       "      <td>1.000000e+00</td>\n",
       "    </tr>\n",
       "    <tr>\n",
       "      <th>75%</th>\n",
       "      <td>2.300000e+01</td>\n",
       "      <td>4.700000e+01</td>\n",
       "      <td>1.568400e+04</td>\n",
       "      <td>9.990000e+02</td>\n",
       "      <td>1.000000e+00</td>\n",
       "    </tr>\n",
       "    <tr>\n",
       "      <th>max</th>\n",
       "      <td>3.300000e+01</td>\n",
       "      <td>5.900000e+01</td>\n",
       "      <td>2.216900e+04</td>\n",
       "      <td>3.079800e+05</td>\n",
       "      <td>2.169000e+03</td>\n",
       "    </tr>\n",
       "  </tbody>\n",
       "</table>\n",
       "</div>"
      ],
      "text/plain": [
       "       date_block_num       shop_id       item_id    item_price  item_cnt_day\n",
       "count    2.935849e+06  2.935849e+06  2.935849e+06  2.935849e+06  2.935849e+06\n",
       "mean     1.456991e+01  3.300173e+01  1.019723e+04  8.908532e+02  1.242641e+00\n",
       "std      9.422988e+00  1.622697e+01  6.324297e+03  1.729800e+03  2.618834e+00\n",
       "min      0.000000e+00  0.000000e+00  0.000000e+00 -1.000000e+00 -2.200000e+01\n",
       "25%      7.000000e+00  2.200000e+01  4.476000e+03  2.490000e+02  1.000000e+00\n",
       "50%      1.400000e+01  3.100000e+01  9.343000e+03  3.990000e+02  1.000000e+00\n",
       "75%      2.300000e+01  4.700000e+01  1.568400e+04  9.990000e+02  1.000000e+00\n",
       "max      3.300000e+01  5.900000e+01  2.216900e+04  3.079800e+05  2.169000e+03"
      ]
     },
     "execution_count": 8,
     "metadata": {},
     "output_type": "execute_result"
    }
   ],
   "source": [
    "train.head()\n",
    "train.describe()"
   ]
  },
  {
   "cell_type": "code",
   "execution_count": 9,
   "metadata": {
    "scrolled": false
   },
   "outputs": [
    {
     "data": {
      "text/plain": [
       "<matplotlib.axes._subplots.AxesSubplot at 0x1a1e144c18>"
      ]
     },
     "execution_count": 9,
     "metadata": {},
     "output_type": "execute_result"
    },
    {
     "data": {
      "image/png": "[encoded data removed]",
      "text/plain": [
       "<Figure size 432x288 with 1 Axes>"
      ]
     },
     "metadata": {
      "needs_background": "light"
     },
     "output_type": "display_data"
    }
   ],
   "source": [
    "train.date_block_num.plot()"
   ]
  },
  {
   "cell_type": "code",
   "execution_count": 10,
   "metadata": {
    "scrolled": false
   },
   "outputs": [
    {
     "data": {
      "text/plain": [
       "<matplotlib.axes._subplots.AxesSubplot at 0x1a1ae6b400>"
      ]
     },
     "execution_count": 10,
     "metadata": {},
     "output_type": "execute_result"
    },
    {
     "data": {
      "text/plain": [
       "<matplotlib.axes._subplots.AxesSubplot at 0x1a1b0b16d8>"
      ]
     },
     "execution_count": 10,
     "metadata": {},
     "output_type": "execute_result"
    },
    {
     "data": {
      "image/png": "[encoded data removed]",
      "text/plain": [
       "<Figure size 432x288 with 1 Axes>"
      ]
     },
     "metadata": {
      "needs_background": "light"
     },
     "output_type": "display_data"
    },
    {
     "data": {
      "image/png": "[encoded data removed]",
      "text/plain": [
       "<Figure size 432x288 with 1 Axes>"
      ]
     },
     "metadata": {
      "needs_background": "light"
     },
     "output_type": "display_data"
    }
   ],
   "source": [
    "train.drop_duplicates(subset=['item_id', 'shop_id']).plot.scatter('item_id', 'shop_id', color='DarkBlue', s = 0.1)\n",
    "test.drop_duplicates(subset=['item_id', 'shop_id']).plot.scatter('item_id', 'shop_id', color='DarkGreen', s = 0.1)"
   ]
  },
  {
   "cell_type": "markdown",
   "metadata": {},
   "source": [
    "### Plot the feature distributions"
   ]
  },
  {
   "cell_type": "code",
   "execution_count": 11,
   "metadata": {},
   "outputs": [
    {
     "data": {
      "image/png": "[encoded data removed]",
      "text/plain": [
       "<Figure size 720x288 with 1 Axes>"
      ]
     },
     "metadata": {
      "needs_background": "light"
     },
     "output_type": "display_data"
    },
    {
     "data": {
      "image/png": "[encoded data removed]",
      "text/plain": [
       "<Figure size 720x288 with 1 Axes>"
      ]
     },
     "metadata": {
      "needs_background": "light"
     },
     "output_type": "display_data"
    },
    {
     "data": {
      "image/png": "[encoded data removed]",
      "text/plain": [
       "<Figure size 720x288 with 1 Axes>"
      ]
     },
     "metadata": {
      "needs_background": "light"
     },
     "output_type": "display_data"
    },
    {
     "data": {
      "image/png": "[encoded data removed]",
      "text/plain": [
       "<Figure size 720x288 with 1 Axes>"
      ]
     },
     "metadata": {
      "needs_background": "light"
     },
     "output_type": "display_data"
    },
    {
     "data": {
      "image/png": "[encoded data removed]",
      "text/plain": [
       "<Figure size 720x288 with 1 Axes>"
      ]
     },
     "metadata": {
      "needs_background": "light"
     },
     "output_type": "display_data"
    }
   ],
   "source": [
    "def box_plot(df,f):\n",
    "    plt.figure(figsize=(10,4))\n",
    "    plt.title(f+' distribution')\n",
    "    x_min = int(df[f].min() - (abs(df[f].min())*0.1))\n",
    "    x_max = int(df[f].max() + (abs(df[f].max())*0.1))\n",
    "    if x_min==0:\n",
    "        x_min = -1\n",
    "    if x_max==0:\n",
    "        x_max = 1\n",
    "    plt.xlim(x_min,x_max)\n",
    "    sns.boxplot(x=df[f])\n",
    "\n",
    "plot_features = [x for x in train.columns.values if train[x].dtype != 'object']\n",
    "for f in plot_features:\n",
    "    box_plot(train,f)"
   ]
  },
  {
   "cell_type": "markdown",
   "metadata": {},
   "source": [
    "### Outliers removal"
   ]
  },
  {
   "cell_type": "code",
   "execution_count": 12,
   "metadata": {
    "scrolled": true
   },
   "outputs": [
    {
     "data": {
      "text/plain": [
       "shop_id                0\n",
       "item_id                0\n",
       "date              102796\n",
       "date_block_num    102796\n",
       "item_price        102796\n",
       "item_cnt_day      102796\n",
       "dtype: int64"
      ]
     },
     "execution_count": 12,
     "metadata": {},
     "output_type": "execute_result"
    },
    {
     "data": {
      "text/plain": [
       "214200"
      ]
     },
     "execution_count": 12,
     "metadata": {},
     "output_type": "execute_result"
    }
   ],
   "source": [
    "test.merge(train, how='left', on=['shop_id', 'item_id']).isnull().sum()\n",
    "test.shape[0]"
   ]
  },
  {
   "cell_type": "code",
   "execution_count": 13,
   "metadata": {},
   "outputs": [
    {
     "data": {
      "text/plain": [
       "<matplotlib.axes._subplots.AxesSubplot at 0x1a1d5ea3c8>"
      ]
     },
     "execution_count": 13,
     "metadata": {},
     "output_type": "execute_result"
    },
    {
     "data": {
      "text/html": [
       "<div>\n",
       "<style scoped>\n",
       "    .dataframe tbody tr th:only-of-type {\n",
       "        vertical-align: middle;\n",
       "    }\n",
       "\n",
       "    .dataframe tbody tr th {\n",
       "        vertical-align: top;\n",
       "    }\n",
       "\n",
       "    .dataframe thead th {\n",
       "        text-align: right;\n",
       "    }\n",
       "</style>\n",
       "<table border=\"1\" class=\"dataframe\">\n",
       "  <thead>\n",
       "    <tr style=\"text-align: right;\">\n",
       "      <th></th>\n",
       "      <th>date</th>\n",
       "      <th>date_block_num</th>\n",
       "      <th>shop_id</th>\n",
       "      <th>item_id</th>\n",
       "      <th>item_price</th>\n",
       "      <th>item_cnt_day</th>\n",
       "    </tr>\n",
       "  </thead>\n",
       "  <tbody>\n",
       "    <tr>\n",
       "      <th>1163158</th>\n",
       "      <td>13.12.2013</td>\n",
       "      <td>11</td>\n",
       "      <td>12</td>\n",
       "      <td>6066</td>\n",
       "      <td>307980.0</td>\n",
       "      <td>1.0</td>\n",
       "    </tr>\n",
       "  </tbody>\n",
       "</table>\n",
       "</div>"
      ],
      "text/plain": [
       "               date  date_block_num  shop_id  item_id  item_price  \\\n",
       "1163158  13.12.2013              11       12     6066    307980.0   \n",
       "\n",
       "         item_cnt_day  \n",
       "1163158           1.0  "
      ]
     },
     "execution_count": 13,
     "metadata": {},
     "output_type": "execute_result"
    },
    {
     "data": {
      "text/html": [
       "<div>\n",
       "<style scoped>\n",
       "    .dataframe tbody tr th:only-of-type {\n",
       "        vertical-align: middle;\n",
       "    }\n",
       "\n",
       "    .dataframe tbody tr th {\n",
       "        vertical-align: top;\n",
       "    }\n",
       "\n",
       "    .dataframe thead th {\n",
       "        text-align: right;\n",
       "    }\n",
       "</style>\n",
       "<table border=\"1\" class=\"dataframe\">\n",
       "  <thead>\n",
       "    <tr style=\"text-align: right;\">\n",
       "      <th></th>\n",
       "      <th>item_name</th>\n",
       "      <th>item_id</th>\n",
       "      <th>item_category_id</th>\n",
       "    </tr>\n",
       "  </thead>\n",
       "  <tbody>\n",
       "    <tr>\n",
       "      <th>6066</th>\n",
       "      <td>Radmin 3  - 522 лиц.</td>\n",
       "      <td>6066</td>\n",
       "      <td>75</td>\n",
       "    </tr>\n",
       "  </tbody>\n",
       "</table>\n",
       "</div>"
      ],
      "text/plain": [
       "                 item_name  item_id  item_category_id\n",
       "6066  Radmin 3  - 522 лиц.     6066                75"
      ]
     },
     "execution_count": 13,
     "metadata": {},
     "output_type": "execute_result"
    },
    {
     "data": {
      "image/png": "[encoded data removed]",
      "text/plain": [
       "<Figure size 432x288 with 1 Axes>"
      ]
     },
     "metadata": {
      "needs_background": "light"
     },
     "output_type": "display_data"
    }
   ],
   "source": [
    "train.item_price.plot()\n",
    "train[train['item_price'] > 100000]\n",
    "items[items['item_id'] == 6066]"
   ]
  },
  {
   "cell_type": "code",
   "execution_count": 14,
   "metadata": {},
   "outputs": [
    {
     "data": {
      "text/plain": [
       "<matplotlib.axes._subplots.AxesSubplot at 0x1a1d628ef0>"
      ]
     },
     "execution_count": 14,
     "metadata": {},
     "output_type": "execute_result"
    },
    {
     "data": {
      "text/html": [
       "<div>\n",
       "<style scoped>\n",
       "    .dataframe tbody tr th:only-of-type {\n",
       "        vertical-align: middle;\n",
       "    }\n",
       "\n",
       "    .dataframe tbody tr th {\n",
       "        vertical-align: top;\n",
       "    }\n",
       "\n",
       "    .dataframe thead th {\n",
       "        text-align: right;\n",
       "    }\n",
       "</style>\n",
       "<table border=\"1\" class=\"dataframe\">\n",
       "  <thead>\n",
       "    <tr style=\"text-align: right;\">\n",
       "      <th></th>\n",
       "      <th>date</th>\n",
       "      <th>date_block_num</th>\n",
       "      <th>shop_id</th>\n",
       "      <th>item_id</th>\n",
       "      <th>item_price</th>\n",
       "      <th>item_cnt_day</th>\n",
       "    </tr>\n",
       "  </thead>\n",
       "  <tbody>\n",
       "    <tr>\n",
       "      <th>2326930</th>\n",
       "      <td>15.01.2015</td>\n",
       "      <td>24</td>\n",
       "      <td>12</td>\n",
       "      <td>20949</td>\n",
       "      <td>4.000000</td>\n",
       "      <td>1000.0</td>\n",
       "    </tr>\n",
       "    <tr>\n",
       "      <th>2909818</th>\n",
       "      <td>28.10.2015</td>\n",
       "      <td>33</td>\n",
       "      <td>12</td>\n",
       "      <td>11373</td>\n",
       "      <td>0.908714</td>\n",
       "      <td>2169.0</td>\n",
       "    </tr>\n",
       "  </tbody>\n",
       "</table>\n",
       "</div>"
      ],
      "text/plain": [
       "               date  date_block_num  shop_id  item_id  item_price  \\\n",
       "2326930  15.01.2015              24       12    20949    4.000000   \n",
       "2909818  28.10.2015              33       12    11373    0.908714   \n",
       "\n",
       "         item_cnt_day  \n",
       "2326930        1000.0  \n",
       "2909818        2169.0  "
      ]
     },
     "execution_count": 14,
     "metadata": {},
     "output_type": "execute_result"
    },
    {
     "data": {
      "text/html": [
       "<div>\n",
       "<style scoped>\n",
       "    .dataframe tbody tr th:only-of-type {\n",
       "        vertical-align: middle;\n",
       "    }\n",
       "\n",
       "    .dataframe tbody tr th {\n",
       "        vertical-align: top;\n",
       "    }\n",
       "\n",
       "    .dataframe thead th {\n",
       "        text-align: right;\n",
       "    }\n",
       "</style>\n",
       "<table border=\"1\" class=\"dataframe\">\n",
       "  <thead>\n",
       "    <tr style=\"text-align: right;\">\n",
       "      <th></th>\n",
       "      <th>item_name</th>\n",
       "      <th>item_id</th>\n",
       "      <th>item_category_id</th>\n",
       "    </tr>\n",
       "  </thead>\n",
       "  <tbody>\n",
       "  </tbody>\n",
       "</table>\n",
       "</div>"
      ],
      "text/plain": [
       "Empty DataFrame\n",
       "Columns: [item_name, item_id, item_category_id]\n",
       "Index: []"
      ]
     },
     "execution_count": 14,
     "metadata": {},
     "output_type": "execute_result"
    },
    {
     "data": {
      "image/png": "[encoded data removed]",
      "text/plain": [
       "<Figure size 432x288 with 1 Axes>"
      ]
     },
     "metadata": {
      "needs_background": "light"
     },
     "output_type": "display_data"
    }
   ],
   "source": [
    "train.item_cnt_day.plot()\n",
    "train[train['item_cnt_day'] > 900]\n",
    "items[(items['item_id'] == 11373) & (items['item_id'] == 20949)]"
   ]
  },
  {
   "cell_type": "code",
   "execution_count": 15,
   "metadata": {},
   "outputs": [],
   "source": [
    "train = train[train.item_price < 100000]\n",
    "train = train[train.item_cnt_day <= 900]"
   ]
  },
  {
   "cell_type": "markdown",
   "metadata": {},
   "source": [
    "## Aggregate Data"
   ]
  },
  {
   "cell_type": "raw",
   "metadata": {},
   "source": [
    "# Merge duplicate shops\n",
    "train.loc[train.shop_id == 0, 'shop_id'] = 57\n",
    "train.loc[train.shop_id == 1, 'shop_id'] = 58\n",
    "train.loc[train.shop_id == 10, 'shop_id'] = 11"
   ]
  },
  {
   "cell_type": "code",
   "execution_count": 16,
   "metadata": {},
   "outputs": [],
   "source": [
    "index_cols = ['shop_id', 'item_id', 'date_block_num']\n",
    "\n",
    "grid = []\n",
    "for block_num in train['date_block_num'].unique():\n",
    "    cur_shops = train.loc[train['date_block_num'] == block_num, 'shop_id'].unique()\n",
    "    cur_items = train.loc[train['date_block_num'] == block_num, 'item_id'].unique()\n",
    "    grid.append(np.array(list(product(*[cur_shops, cur_items, [block_num]])),dtype='int32'))\n",
    "grid = pd.DataFrame(np.vstack(grid), columns = index_cols,dtype=np.int32)"
   ]
  },
  {
   "cell_type": "code",
   "execution_count": 17,
   "metadata": {
    "scrolled": false
   },
   "outputs": [],
   "source": [
    "train_m = train.groupby(['date_block_num','shop_id','item_id']).agg({'item_cnt_day': 'sum','item_price': np.mean}).reset_index()\n",
    "train_m = pd.merge(grid,train_m,on=['date_block_num','shop_id','item_id'],how='left').fillna(0)\n",
    "\n",
    "train_m = pd.merge(train_m,items,on=['item_id'],how='left')\n",
    "train_m = pd.merge(train_m,item_categories, on=['item_category_id'], how='left')"
   ]
  },
  {
   "cell_type": "markdown",
   "metadata": {
    "scrolled": true
   },
   "source": [
    "## Mean encoding"
   ]
  },
  {
   "cell_type": "code",
   "execution_count": 18,
   "metadata": {
    "scrolled": true
   },
   "outputs": [],
   "source": [
    "for type_id in ['item_id','shop_id','item_category_id']:\n",
    "    for column_id, agg_func, func_name in [('item_price',np.mean,'avg'),('item_cnt_day',np.sum,'sum'),('item_cnt_day',np.mean,'avg')]:\n",
    "\n",
    "        mean_df = train_m.groupby([type_id,'date_block_num']).agg(agg_func).reset_index()[[column_id,type_id,'date_block_num']]\n",
    "        mean_df.columns = [type_id+'_'+func_name+'_'+column_id, type_id,'date_block_num']\n",
    "        \n",
    "        train_m = pd.merge(train_m,mean_df,on=['date_block_num', type_id],how='left')"
   ]
  },
  {
   "cell_type": "markdown",
   "metadata": {},
   "source": [
    "## Prepare test set"
   ]
  },
  {
   "cell_type": "code",
   "execution_count": 19,
   "metadata": {
    "scrolled": false
   },
   "outputs": [],
   "source": [
    "temp_test = test.copy()\n",
    "temp_test['date_block_num'] = 34\n",
    "\n",
    "temp_test = temp_test.merge(items, how='left', on='item_id')\n",
    "temp_test = temp_test.merge(item_categories, how='left', on='item_category_id')\n",
    "temp_test.drop('item_name', axis=1, inplace=True)"
   ]
  },
  {
   "cell_type": "markdown",
   "metadata": {},
   "source": [
    "## Concat Train and Test"
   ]
  },
  {
   "cell_type": "code",
   "execution_count": 20,
   "metadata": {
    "scrolled": true
   },
   "outputs": [],
   "source": [
    "train_m.drop('item_name', axis=1, inplace=True)\n",
    "train_m = pd.concat([train_m,temp_test], axis=0, ignore_index=True)"
   ]
  },
  {
   "cell_type": "markdown",
   "metadata": {},
   "source": [
    "We create lags on 10 features. 9 features are from mean encoding and 1 feature is the item_cnt_day.\n",
    "\n",
    "The month lag intervals of 1, 2, 3, 4, 5, 6, 9 and 12 give best score in the leaderboard."
   ]
  },
  {
   "cell_type": "code",
   "execution_count": 21,
   "metadata": {
    "scrolled": true
   },
   "outputs": [],
   "source": [
    "lag_variables  = ['item_id_avg_item_price',\n",
    "                  'item_id_sum_item_cnt_day',\n",
    "                  'item_id_avg_item_cnt_day',\n",
    "                  'shop_id_avg_item_price',\n",
    "                  'shop_id_sum_item_cnt_day',\n",
    "                  'shop_id_avg_item_cnt_day',\n",
    "                  'item_category_id_avg_item_price',\n",
    "                  'item_category_id_sum_item_cnt_day',\n",
    "                  'item_category_id_avg_item_cnt_day',\n",
    "                  'item_cnt_day']\n",
    "\n",
    "lags = [1, 2, 3, 4, 5, 6, 9, 12]\n",
    "\n",
    "for lag in lags:\n",
    "    train_new_df = train_m.copy()\n",
    "    train_new_df.date_block_num+=lag\n",
    "    train_new_df = train_new_df[['date_block_num','shop_id','item_id']+lag_variables]\n",
    "    train_new_df.columns = ['date_block_num','shop_id','item_id']+ [lag_feat+'_lag_'+str(lag) for lag_feat in lag_variables]\n",
    "    train_m = train_m.merge(train_new_df,on=['date_block_num','shop_id','item_id'] ,how='left')"
   ]
  },
  {
   "cell_type": "code",
   "execution_count": 22,
   "metadata": {},
   "outputs": [
    {
     "data": {
      "text/html": [
       "<div>\n",
       "<style scoped>\n",
       "    .dataframe tbody tr th:only-of-type {\n",
       "        vertical-align: middle;\n",
       "    }\n",
       "\n",
       "    .dataframe tbody tr th {\n",
       "        vertical-align: top;\n",
       "    }\n",
       "\n",
       "    .dataframe thead th {\n",
       "        text-align: right;\n",
       "    }\n",
       "</style>\n",
       "<table border=\"1\" class=\"dataframe\">\n",
       "  <thead>\n",
       "    <tr style=\"text-align: right;\">\n",
       "      <th></th>\n",
       "      <th>date_block_num</th>\n",
       "      <th>item_category_id</th>\n",
       "      <th>item_category_id_avg_item_cnt_day</th>\n",
       "      <th>item_category_id_avg_item_price</th>\n",
       "      <th>item_category_id_sum_item_cnt_day</th>\n",
       "      <th>item_cnt_day</th>\n",
       "      <th>item_id</th>\n",
       "      <th>item_id_avg_item_cnt_day</th>\n",
       "      <th>item_id_avg_item_price</th>\n",
       "      <th>item_id_sum_item_cnt_day</th>\n",
       "      <th>...</th>\n",
       "      <th>item_id_avg_item_price_lag_12</th>\n",
       "      <th>item_id_sum_item_cnt_day_lag_12</th>\n",
       "      <th>item_id_avg_item_cnt_day_lag_12</th>\n",
       "      <th>shop_id_avg_item_price_lag_12</th>\n",
       "      <th>shop_id_sum_item_cnt_day_lag_12</th>\n",
       "      <th>shop_id_avg_item_cnt_day_lag_12</th>\n",
       "      <th>item_category_id_avg_item_price_lag_12</th>\n",
       "      <th>item_category_id_sum_item_cnt_day_lag_12</th>\n",
       "      <th>item_category_id_avg_item_cnt_day_lag_12</th>\n",
       "      <th>item_cnt_day_lag_12</th>\n",
       "    </tr>\n",
       "  </thead>\n",
       "  <tbody>\n",
       "    <tr>\n",
       "      <th>count</th>\n",
       "      <td>1.112800e+07</td>\n",
       "      <td>1.112800e+07</td>\n",
       "      <td>1.091380e+07</td>\n",
       "      <td>1.091380e+07</td>\n",
       "      <td>1.091380e+07</td>\n",
       "      <td>1.091380e+07</td>\n",
       "      <td>1.112800e+07</td>\n",
       "      <td>1.091380e+07</td>\n",
       "      <td>1.091380e+07</td>\n",
       "      <td>1.091380e+07</td>\n",
       "      <td>...</td>\n",
       "      <td>3.120910e+06</td>\n",
       "      <td>3.120910e+06</td>\n",
       "      <td>3.120910e+06</td>\n",
       "      <td>3.120910e+06</td>\n",
       "      <td>3.120910e+06</td>\n",
       "      <td>3.120910e+06</td>\n",
       "      <td>3.120910e+06</td>\n",
       "      <td>3.120910e+06</td>\n",
       "      <td>3.120910e+06</td>\n",
       "      <td>3.120910e+06</td>\n",
       "    </tr>\n",
       "    <tr>\n",
       "      <th>mean</th>\n",
       "      <td>1.533960e+01</td>\n",
       "      <td>4.494398e+01</td>\n",
       "      <td>3.339840e-01</td>\n",
       "      <td>1.165793e+02</td>\n",
       "      <td>8.501853e+03</td>\n",
       "      <td>3.339840e-01</td>\n",
       "      <td>1.130371e+04</td>\n",
       "      <td>3.339840e-01</td>\n",
       "      <td>1.165793e+02</td>\n",
       "      <td>1.563816e+01</td>\n",
       "      <td>...</td>\n",
       "      <td>1.583253e+02</td>\n",
       "      <td>2.698094e+01</td>\n",
       "      <td>5.747183e-01</td>\n",
       "      <td>1.068854e+02</td>\n",
       "      <td>2.607527e+03</td>\n",
       "      <td>3.416632e-01</td>\n",
       "      <td>1.119120e+02</td>\n",
       "      <td>9.143684e+03</td>\n",
       "      <td>3.814021e-01</td>\n",
       "      <td>5.846160e-01</td>\n",
       "    </tr>\n",
       "    <tr>\n",
       "      <th>std</th>\n",
       "      <td>9.760412e+00</td>\n",
       "      <td>1.514000e+01</td>\n",
       "      <td>1.638930e+00</td>\n",
       "      <td>3.204530e+02</td>\n",
       "      <td>8.973476e+03</td>\n",
       "      <td>3.334923e+00</td>\n",
       "      <td>6.210934e+03</td>\n",
       "      <td>2.041781e+00</td>\n",
       "      <td>4.436281e+02</td>\n",
       "      <td>9.621956e+01</td>\n",
       "      <td>...</td>\n",
       "      <td>4.690863e+02</td>\n",
       "      <td>1.448749e+02</td>\n",
       "      <td>3.088144e+00</td>\n",
       "      <td>4.997387e+01</td>\n",
       "      <td>2.031522e+03</td>\n",
       "      <td>2.593814e-01</td>\n",
       "      <td>3.171460e+02</td>\n",
       "      <td>9.134180e+03</td>\n",
       "      <td>2.513105e+00</td>\n",
       "      <td>4.631928e+00</td>\n",
       "    </tr>\n",
       "    <tr>\n",
       "      <th>min</th>\n",
       "      <td>0.000000e+00</td>\n",
       "      <td>0.000000e+00</td>\n",
       "      <td>-2.272727e-02</td>\n",
       "      <td>2.600000e-01</td>\n",
       "      <td>-1.000000e+00</td>\n",
       "      <td>-2.200000e+01</td>\n",
       "      <td>0.000000e+00</td>\n",
       "      <td>-4.888889e-01</td>\n",
       "      <td>2.222222e-03</td>\n",
       "      <td>-2.200000e+01</td>\n",
       "      <td>...</td>\n",
       "      <td>2.666667e-02</td>\n",
       "      <td>-2.000000e+00</td>\n",
       "      <td>-4.444444e-02</td>\n",
       "      <td>2.329451e-02</td>\n",
       "      <td>2.000000e+00</td>\n",
       "      <td>3.025261e-04</td>\n",
       "      <td>1.038043e+00</td>\n",
       "      <td>2.000000e+00</td>\n",
       "      <td>1.923077e-02</td>\n",
       "      <td>-4.000000e+00</td>\n",
       "    </tr>\n",
       "    <tr>\n",
       "      <th>25%</th>\n",
       "      <td>7.000000e+00</td>\n",
       "      <td>3.700000e+01</td>\n",
       "      <td>1.578334e-01</td>\n",
       "      <td>2.973899e+01</td>\n",
       "      <td>1.077000e+03</td>\n",
       "      <td>0.000000e+00</td>\n",
       "      <td>5.947000e+03</td>\n",
       "      <td>3.921569e-02</td>\n",
       "      <td>9.652174e+00</td>\n",
       "      <td>2.000000e+00</td>\n",
       "      <td>...</td>\n",
       "      <td>2.128571e+01</td>\n",
       "      <td>4.000000e+00</td>\n",
       "      <td>8.000000e-02</td>\n",
       "      <td>7.603232e+01</td>\n",
       "      <td>1.419000e+03</td>\n",
       "      <td>1.947476e-01</td>\n",
       "      <td>2.986249e+01</td>\n",
       "      <td>1.204000e+03</td>\n",
       "      <td>1.761384e-01</td>\n",
       "      <td>0.000000e+00</td>\n",
       "    </tr>\n",
       "    <tr>\n",
       "      <th>50%</th>\n",
       "      <td>1.500000e+01</td>\n",
       "      <td>4.000000e+01</td>\n",
       "      <td>2.254803e-01</td>\n",
       "      <td>4.557390e+01</td>\n",
       "      <td>5.959000e+03</td>\n",
       "      <td>0.000000e+00</td>\n",
       "      <td>1.138800e+04</td>\n",
       "      <td>8.695652e-02</td>\n",
       "      <td>2.706250e+01</td>\n",
       "      <td>4.000000e+00</td>\n",
       "      <td>...</td>\n",
       "      <td>4.586957e+01</td>\n",
       "      <td>9.000000e+00</td>\n",
       "      <td>1.800000e-01</td>\n",
       "      <td>9.732444e+01</td>\n",
       "      <td>2.008000e+03</td>\n",
       "      <td>2.651934e-01</td>\n",
       "      <td>4.471525e+01</td>\n",
       "      <td>6.763000e+03</td>\n",
       "      <td>2.258126e-01</td>\n",
       "      <td>0.000000e+00</td>\n",
       "    </tr>\n",
       "    <tr>\n",
       "      <th>75%</th>\n",
       "      <td>2.300000e+01</td>\n",
       "      <td>5.500000e+01</td>\n",
       "      <td>2.876345e-01</td>\n",
       "      <td>1.110535e+02</td>\n",
       "      <td>1.283400e+04</td>\n",
       "      <td>0.000000e+00</td>\n",
       "      <td>1.659200e+04</td>\n",
       "      <td>2.391304e-01</td>\n",
       "      <td>7.740851e+01</td>\n",
       "      <td>1.100000e+01</td>\n",
       "      <td>...</td>\n",
       "      <td>1.226304e+02</td>\n",
       "      <td>2.000000e+01</td>\n",
       "      <td>4.222222e-01</td>\n",
       "      <td>1.257252e+02</td>\n",
       "      <td>2.875000e+03</td>\n",
       "      <td>3.644905e-01</td>\n",
       "      <td>1.066750e+02</td>\n",
       "      <td>1.361600e+04</td>\n",
       "      <td>2.876345e-01</td>\n",
       "      <td>0.000000e+00</td>\n",
       "    </tr>\n",
       "    <tr>\n",
       "      <th>max</th>\n",
       "      <td>3.400000e+01</td>\n",
       "      <td>8.300000e+01</td>\n",
       "      <td>2.729783e+02</td>\n",
       "      <td>2.255054e+04</td>\n",
       "      <td>3.627700e+04</td>\n",
       "      <td>1.644000e+03</td>\n",
       "      <td>2.216900e+04</td>\n",
       "      <td>2.729783e+02</td>\n",
       "      <td>2.408645e+04</td>\n",
       "      <td>1.255700e+04</td>\n",
       "      <td>...</td>\n",
       "      <td>2.255054e+04</td>\n",
       "      <td>1.255700e+04</td>\n",
       "      <td>2.729783e+02</td>\n",
       "      <td>3.474158e+02</td>\n",
       "      <td>1.631800e+04</td>\n",
       "      <td>1.925882e+00</td>\n",
       "      <td>2.255054e+04</td>\n",
       "      <td>3.627700e+04</td>\n",
       "      <td>2.729783e+02</td>\n",
       "      <td>1.305000e+03</td>\n",
       "    </tr>\n",
       "  </tbody>\n",
       "</table>\n",
       "<p>8 rows × 95 columns</p>\n",
       "</div>"
      ],
      "text/plain": [
       "       date_block_num  item_category_id  item_category_id_avg_item_cnt_day  \\\n",
       "count    1.112800e+07      1.112800e+07                       1.091380e+07   \n",
       "mean     1.533960e+01      4.494398e+01                       3.339840e-01   \n",
       "std      9.760412e+00      1.514000e+01                       1.638930e+00   \n",
       "min      0.000000e+00      0.000000e+00                      -2.272727e-02   \n",
       "25%      7.000000e+00      3.700000e+01                       1.578334e-01   \n",
       "50%      1.500000e+01      4.000000e+01                       2.254803e-01   \n",
       "75%      2.300000e+01      5.500000e+01                       2.876345e-01   \n",
       "max      3.400000e+01      8.300000e+01                       2.729783e+02   \n",
       "\n",
       "       item_category_id_avg_item_price  item_category_id_sum_item_cnt_day  \\\n",
       "count                     1.091380e+07                       1.091380e+07   \n",
       "mean                      1.165793e+02                       8.501853e+03   \n",
       "std                       3.204530e+02                       8.973476e+03   \n",
       "min                       2.600000e-01                      -1.000000e+00   \n",
       "25%                       2.973899e+01                       1.077000e+03   \n",
       "50%                       4.557390e+01                       5.959000e+03   \n",
       "75%                       1.110535e+02                       1.283400e+04   \n",
       "max                       2.255054e+04                       3.627700e+04   \n",
       "\n",
       "       item_cnt_day       item_id  item_id_avg_item_cnt_day  \\\n",
       "count  1.091380e+07  1.112800e+07              1.091380e+07   \n",
       "mean   3.339840e-01  1.130371e+04              3.339840e-01   \n",
       "std    3.334923e+00  6.210934e+03              2.041781e+00   \n",
       "min   -2.200000e+01  0.000000e+00             -4.888889e-01   \n",
       "25%    0.000000e+00  5.947000e+03              3.921569e-02   \n",
       "50%    0.000000e+00  1.138800e+04              8.695652e-02   \n",
       "75%    0.000000e+00  1.659200e+04              2.391304e-01   \n",
       "max    1.644000e+03  2.216900e+04              2.729783e+02   \n",
       "\n",
       "       item_id_avg_item_price  item_id_sum_item_cnt_day  ...  \\\n",
       "count            1.091380e+07              1.091380e+07  ...   \n",
       "mean             1.165793e+02              1.563816e+01  ...   \n",
       "std              4.436281e+02              9.621956e+01  ...   \n",
       "min              2.222222e-03             -2.200000e+01  ...   \n",
       "25%              9.652174e+00              2.000000e+00  ...   \n",
       "50%              2.706250e+01              4.000000e+00  ...   \n",
       "75%              7.740851e+01              1.100000e+01  ...   \n",
       "max              2.408645e+04              1.255700e+04  ...   \n",
       "\n",
       "       item_id_avg_item_price_lag_12  item_id_sum_item_cnt_day_lag_12  \\\n",
       "count                   3.120910e+06                     3.120910e+06   \n",
       "mean                    1.583253e+02                     2.698094e+01   \n",
       "std                     4.690863e+02                     1.448749e+02   \n",
       "min                     2.666667e-02                    -2.000000e+00   \n",
       "25%                     2.128571e+01                     4.000000e+00   \n",
       "50%                     4.586957e+01                     9.000000e+00   \n",
       "75%                     1.226304e+02                     2.000000e+01   \n",
       "max                     2.255054e+04                     1.255700e+04   \n",
       "\n",
       "       item_id_avg_item_cnt_day_lag_12  shop_id_avg_item_price_lag_12  \\\n",
       "count                     3.120910e+06                   3.120910e+06   \n",
       "mean                      5.747183e-01                   1.068854e+02   \n",
       "std                       3.088144e+00                   4.997387e+01   \n",
       "min                      -4.444444e-02                   2.329451e-02   \n",
       "25%                       8.000000e-02                   7.603232e+01   \n",
       "50%                       1.800000e-01                   9.732444e+01   \n",
       "75%                       4.222222e-01                   1.257252e+02   \n",
       "max                       2.729783e+02                   3.474158e+02   \n",
       "\n",
       "       shop_id_sum_item_cnt_day_lag_12  shop_id_avg_item_cnt_day_lag_12  \\\n",
       "count                     3.120910e+06                     3.120910e+06   \n",
       "mean                      2.607527e+03                     3.416632e-01   \n",
       "std                       2.031522e+03                     2.593814e-01   \n",
       "min                       2.000000e+00                     3.025261e-04   \n",
       "25%                       1.419000e+03                     1.947476e-01   \n",
       "50%                       2.008000e+03                     2.651934e-01   \n",
       "75%                       2.875000e+03                     3.644905e-01   \n",
       "max                       1.631800e+04                     1.925882e+00   \n",
       "\n",
       "       item_category_id_avg_item_price_lag_12  \\\n",
       "count                            3.120910e+06   \n",
       "mean                             1.119120e+02   \n",
       "std                              3.171460e+02   \n",
       "min                              1.038043e+00   \n",
       "25%                              2.986249e+01   \n",
       "50%                              4.471525e+01   \n",
       "75%                              1.066750e+02   \n",
       "max                              2.255054e+04   \n",
       "\n",
       "       item_category_id_sum_item_cnt_day_lag_12  \\\n",
       "count                              3.120910e+06   \n",
       "mean                               9.143684e+03   \n",
       "std                                9.134180e+03   \n",
       "min                                2.000000e+00   \n",
       "25%                                1.204000e+03   \n",
       "50%                                6.763000e+03   \n",
       "75%                                1.361600e+04   \n",
       "max                                3.627700e+04   \n",
       "\n",
       "       item_category_id_avg_item_cnt_day_lag_12  item_cnt_day_lag_12  \n",
       "count                              3.120910e+06         3.120910e+06  \n",
       "mean                               3.814021e-01         5.846160e-01  \n",
       "std                                2.513105e+00         4.631928e+00  \n",
       "min                                1.923077e-02        -4.000000e+00  \n",
       "25%                                1.761384e-01         0.000000e+00  \n",
       "50%                                2.258126e-01         0.000000e+00  \n",
       "75%                                2.876345e-01         0.000000e+00  \n",
       "max                                2.729783e+02         1.305000e+03  \n",
       "\n",
       "[8 rows x 95 columns]"
      ]
     },
     "execution_count": 22,
     "metadata": {},
     "output_type": "execute_result"
    }
   ],
   "source": [
    "train_m.describe()"
   ]
  },
  {
   "cell_type": "markdown",
   "metadata": {},
   "source": [
    "### Create new time related features"
   ]
  },
  {
   "cell_type": "raw",
   "metadata": {},
   "source": [
    "# Month number\n",
    "train_m['month'] = train_m['date_block_num']%12\n",
    "train_m['month'] = train_m['month']\n",
    "\n",
    "# Number of days in a month, no leap years here\n",
    "days = pd.Series([31,28,31,30,31,30,31,31,30,31,30,31])\n",
    "train_m['days'] = train_m['month'].map(days)"
   ]
  },
  {
   "cell_type": "markdown",
   "metadata": {},
   "source": [
    "### Missing values"
   ]
  },
  {
   "cell_type": "code",
   "execution_count": 23,
   "metadata": {},
   "outputs": [],
   "source": [
    "for feat in train_m.columns:\n",
    "    if 'item_cnt' in feat:\n",
    "        train_m[feat]=train_m[feat].fillna(0)\n",
    "    elif 'item_price' in feat:\n",
    "        train_m[feat]=train_m[feat].fillna(train_m[feat].median())"
   ]
  },
  {
   "cell_type": "markdown",
   "metadata": {},
   "source": [
    "### Drop columns and take data only after 12 since the most lag month interval is 12."
   ]
  },
  {
   "cell_type": "code",
   "execution_count": 24,
   "metadata": {},
   "outputs": [],
   "source": [
    "cols_to_drop = lag_variables[:-1] + ['item_price']\n",
    "train_m = train_m[train_m['date_block_num'] > 12]"
   ]
  },
  {
   "cell_type": "markdown",
   "metadata": {},
   "source": [
    "## Validation"
   ]
  },
  {
   "cell_type": "markdown",
   "metadata": {},
   "source": [
    "We use holdout scheme for cross validation. We use sales month from 12 to 32 for training, month 33 for validation and month 34 for testing."
   ]
  },
  {
   "cell_type": "code",
   "execution_count": 25,
   "metadata": {},
   "outputs": [],
   "source": [
    "X_train = train_m[train_m['date_block_num'] < 33].drop(cols_to_drop, axis=1)\n",
    "X_cv    = train_m[train_m['date_block_num'] ==33].drop(cols_to_drop, axis=1)\n",
    "X_test  = train_m[train_m['date_block_num'] ==34].drop(cols_to_drop, axis=1)"
   ]
  },
  {
   "cell_type": "markdown",
   "metadata": {
    "scrolled": true
   },
   "source": [
    "## Reference from discussion"
   ]
  },
  {
   "cell_type": "markdown",
   "metadata": {
    "scrolled": false
   },
   "source": [
    "From discussion in Kaggle forum, we applied this useful trick, which clip the item_cnt_day within 40 instead of 20. In this way, there are more predictions on item_cnt_day = 20."
   ]
  },
  {
   "cell_type": "code",
   "execution_count": 26,
   "metadata": {
    "scrolled": false
   },
   "outputs": [],
   "source": [
    "X_train['item_cnt_day'].clip_upper(40, inplace=True)\n",
    "X_train['item_cnt_day'].clip_lower(0, inplace=True)\n",
    "\n",
    "X_cv['item_cnt_day'].clip_upper(40, inplace=True)\n",
    "X_cv['item_cnt_day'].clip_lower(0, inplace=True)\n",
    "\n",
    "X_test['item_cnt_day'].clip_upper(40, inplace=True)\n",
    "X_test['item_cnt_day'].clip_lower(0, inplace=True)"
   ]
  },
  {
   "cell_type": "markdown",
   "metadata": {},
   "source": [
    "### Save files"
   ]
  },
  {
   "cell_type": "code",
   "execution_count": null,
   "metadata": {},
   "outputs": [],
   "source": [
    "X_train.to_csv('data/files/X_train.csv', index=False)\n",
    "X_cv.to_csv('data/files/X_cv.csv', index=False)\n",
    "X_test.to_csv('data/files/X_test.csv', index=False)"
   ]
  },
  {
   "cell_type": "markdown",
   "metadata": {},
   "source": [
    "# Part 2. Modelling"
   ]
  },
  {
   "cell_type": "markdown",
   "metadata": {},
   "source": [
    "## 3 distinctively different models are used:\n",
    "\n",
    "- Ridge Regression (Linear)\n",
    "- LightGBM (Tree based)\n",
    "- XGBoost (Tree based)\n",
    "- After each model has been trained, a stacked ensemble model which the three models"
   ]
  },
  {
   "cell_type": "markdown",
   "metadata": {},
   "source": [
    "### Data preparation"
   ]
  },
  {
   "cell_type": "markdown",
   "metadata": {},
   "source": [
    "X_train = pd.read_csv('data/files/X_train.csv')\n",
    "X_cv    = pd.read_csv('data/files/X_cv.csv')"
   ]
  },
  {
   "cell_type": "code",
   "execution_count": 27,
   "metadata": {
    "scrolled": true
   },
   "outputs": [],
   "source": [
    "cols = [c for c in X_train.columns if c not in ['item_category_name', 'date_block_num', 'item_cnt_day',]]\n",
    "\n",
    "train_x = X_train[cols]\n",
    "train_y = X_train['item_cnt_day']\n",
    "val_x   = X_cv[cols]\n",
    "val_y   = X_cv['item_cnt_day']\n",
    "\n",
    "features = list(train_x.columns.values)\n",
    "\n",
    "scoresRMSLE = {}"
   ]
  },
  {
   "cell_type": "code",
   "execution_count": 28,
   "metadata": {},
   "outputs": [
    {
     "data": {
      "text/plain": [
       "StandardScaler(copy=True, with_mean=True, with_std=True)"
      ]
     },
     "execution_count": 28,
     "metadata": {},
     "output_type": "execute_result"
    }
   ],
   "source": [
    "# Normalise data\n",
    "scaler = preprocessing.StandardScaler()\n",
    "scaler.fit(train_x.values)\n",
    "\n",
    "train_x_norm = scaler.transform(train_x.values)\n",
    "val_x_norm   = scaler.transform(val_x.values)"
   ]
  },
  {
   "cell_type": "code",
   "execution_count": 29,
   "metadata": {},
   "outputs": [],
   "source": [
    "def post_processing(model, model_name, train_x, train_y, val_x, val_y):\n",
    "    train_pred = model.predict(train_x)\n",
    "    val_pred   = model.predict(val_x)\n",
    "\n",
    "    # Get rmse scores\n",
    "    train_rmse = np.sqrt(mean_squared_error(train_y, train_pred))\n",
    "    print(\"Train RMSE: %f\" % (train_rmse))\n",
    "    val_rmse = np.sqrt(mean_squared_error(val_y, val_pred))\n",
    "    print(\"Val RMSE: %f\" % (val_rmse))\n",
    "\n",
    "    scoresRMSLE[model_name] = (train_rmse, val_rmse)\n",
    "    \n",
    "    return train_pred,val_pred"
   ]
  },
  {
   "cell_type": "code",
   "execution_count": 30,
   "metadata": {},
   "outputs": [],
   "source": [
    "def plot_feature_importances(importances,indices,features,title,dimensions):\n",
    "    plt.figure(figsize=dimensions)\n",
    "    plt.title(title)\n",
    "    plt.barh(range(len(indices)), importances[indices], color='b', align='center')\n",
    "    plt.yticks(range(len(indices)), [features[i] for i in indices])\n",
    "    plt.xlabel('Relative Importance')\n",
    "    plt.show()   "
   ]
  },
  {
   "cell_type": "markdown",
   "metadata": {},
   "source": [
    "## Ridge Regression"
   ]
  },
  {
   "cell_type": "code",
   "execution_count": 31,
   "metadata": {},
   "outputs": [
    {
     "data": {
      "text/plain": [
       "17429"
      ]
     },
     "execution_count": 31,
     "metadata": {},
     "output_type": "execute_result"
    },
    {
     "data": {
      "text/plain": [
       "Ridge(alpha=1.0, copy_X=True, fit_intercept=True, max_iter=None,\n",
       "   normalize=False, random_state=None, solver='auto', tol=0.001)"
      ]
     },
     "execution_count": 31,
     "metadata": {},
     "output_type": "execute_result"
    },
    {
     "name": "stdout",
     "output_type": "stream",
     "text": [
      "Training time: 6.286525249481201\n"
     ]
    }
   ],
   "source": [
    "# Training\n",
    "gc.collect()\n",
    "ts = time.time()\n",
    "\n",
    "lm = linear_model.Ridge()\n",
    "lm.fit(train_x_norm, train_y)\n",
    "print ('Training time: %s' %(time.time() - ts))"
   ]
  },
  {
   "cell_type": "code",
   "execution_count": 32,
   "metadata": {},
   "outputs": [
    {
     "name": "stdout",
     "output_type": "stream",
     "text": [
      "Train RMSE: 1.231579\n",
      "Val RMSE: 1.248318\n"
     ]
    }
   ],
   "source": [
    "# Performance and test predictions\n",
    "train_pred1, val_pred1 = post_processing(lm, 'Rigde',\n",
    "                                         train_x_norm, train_y,\n",
    "                                         val_x_norm, val_y)"
   ]
  },
  {
   "cell_type": "markdown",
   "metadata": {},
   "source": [
    "## LightGBM"
   ]
  },
  {
   "cell_type": "code",
   "execution_count": 33,
   "metadata": {},
   "outputs": [
    {
     "data": {
      "text/plain": [
       "70"
      ]
     },
     "execution_count": 33,
     "metadata": {},
     "output_type": "execute_result"
    },
    {
     "data": {
      "text/plain": [
       "LGBMRegressor(boosting_type='gbdt', class_weight=None, colsample_bytree=1.0,\n",
       "       importance_type='split', learning_rate=0.1, max_depth=-1,\n",
       "       min_child_samples=20, min_child_weight=0.001, min_split_gain=0.0,\n",
       "       n_estimators=100, n_jobs=-1, num_leaves=31, objective=None,\n",
       "       random_state=None, reg_alpha=0.0, reg_lambda=0.0, silent=True,\n",
       "       subsample=1.0, subsample_for_bin=200000, subsample_freq=0)"
      ]
     },
     "execution_count": 33,
     "metadata": {},
     "output_type": "execute_result"
    },
    {
     "name": "stdout",
     "output_type": "stream",
     "text": [
      "Training time: 57.08978080749512\n"
     ]
    }
   ],
   "source": [
    "# Training\n",
    "gc.collect()\n",
    "ts = time.time()\n",
    "\n",
    "# Light Gradient Boosting Regressor\n",
    "lightgbm = LGBMRegressor()\n",
    "lightgbm.fit(train_x_norm, train_y)\n",
    "\n",
    "print ('Training time: %s' %(time.time() - ts))"
   ]
  },
  {
   "cell_type": "code",
   "execution_count": 34,
   "metadata": {},
   "outputs": [
    {
     "name": "stdout",
     "output_type": "stream",
     "text": [
      "Train RMSE: 0.989966\n",
      "Val RMSE: 1.167470\n"
     ]
    }
   ],
   "source": [
    "# Performance and test predictions\n",
    "train_pred2, val_pred2 = post_processing(lightgbm, 'lightgbm',\n",
    "                                         train_x_norm, train_y,\n",
    "                                         val_x_norm, val_y)"
   ]
  },
  {
   "cell_type": "markdown",
   "metadata": {},
   "source": [
    "## XGBoost"
   ]
  },
  {
   "cell_type": "code",
   "execution_count": 35,
   "metadata": {},
   "outputs": [
    {
     "data": {
      "text/plain": [
       "131"
      ]
     },
     "execution_count": 35,
     "metadata": {},
     "output_type": "execute_result"
    },
    {
     "name": "stdout",
     "output_type": "stream",
     "text": [
      "Training time: 1353.680524110794\n"
     ]
    }
   ],
   "source": [
    "# Training\n",
    "gc.collect()\n",
    "ts = time.time()\n",
    "\n",
    "xgbtrain = xgb.DMatrix(train_x.values, train_y.values)\n",
    "\n",
    "params = {'max_depth':10, \n",
    "         'subsample':1,\n",
    "         'min_child_weight':0.5,\n",
    "         'eta':0.08, \n",
    "         'num_round':1000, \n",
    "         'seed':3,\n",
    "         'silent':True,\n",
    "         'eval_metric':'rmse'}\n",
    "\n",
    "bst = xgb.train(params, xgbtrain)\n",
    "print ('Training time: %s' %(time.time() - ts))"
   ]
  },
  {
   "cell_type": "code",
   "execution_count": 36,
   "metadata": {},
   "outputs": [
    {
     "name": "stdout",
     "output_type": "stream",
     "text": [
      "Train RMSE: 1.126010\n",
      "Val RMSE: 1.183770\n"
     ]
    }
   ],
   "source": [
    "# Performance and test predictions\n",
    "train_pred3, val_pred3 = post_processing(bst, 'xgboost',\n",
    "                                         xgb.DMatrix(train_x.values), train_y,\n",
    "                                         xgb.DMatrix(val_x.values), val_y)"
   ]
  },
  {
   "cell_type": "code",
   "execution_count": 37,
   "metadata": {},
   "outputs": [
    {
     "data": {
      "text/plain": [
       "<Figure size 576x1152 with 0 Axes>"
      ]
     },
     "execution_count": 37,
     "metadata": {},
     "output_type": "execute_result"
    },
    {
     "data": {
      "text/plain": [
       "Text(0.5, 1.0, 'XGBoost Feature Importances')"
      ]
     },
     "execution_count": 37,
     "metadata": {},
     "output_type": "execute_result"
    },
    {
     "data": {
      "text/plain": [
       "<BarContainer object of 83 artists>"
      ]
     },
     "execution_count": 37,
     "metadata": {},
     "output_type": "execute_result"
    },
    {
     "data": {
      "text/plain": [
       "([<matplotlib.axis.YTick at 0x1a1d5f56d8>,\n",
       "  <matplotlib.axis.YTick at 0x1a1d5f5b70>,\n",
       "  <matplotlib.axis.YTick at 0x1a1df13668>,\n",
       "  <matplotlib.axis.YTick at 0x1a1afee240>,\n",
       "  <matplotlib.axis.YTick at 0x1a1b1894a8>,\n",
       "  <matplotlib.axis.YTick at 0x1a1b189ef0>,\n",
       "  <matplotlib.axis.YTick at 0x1a1d4fd550>,\n",
       "  <matplotlib.axis.YTick at 0x1a1d4fdf28>,\n",
       "  <matplotlib.axis.YTick at 0x1a1d4fd208>,\n",
       "  <matplotlib.axis.YTick at 0x1a1ae6b3c8>,\n",
       "  <matplotlib.axis.YTick at 0x1a1ae6b470>,\n",
       "  <matplotlib.axis.YTick at 0x1a1d4fdc18>,\n",
       "  <matplotlib.axis.YTick at 0x1a1afee6a0>,\n",
       "  <matplotlib.axis.YTick at 0x1a1ae6b208>,\n",
       "  <matplotlib.axis.YTick at 0x1a1af697f0>,\n",
       "  <matplotlib.axis.YTick at 0x1a1af697b8>,\n",
       "  <matplotlib.axis.YTick at 0x1a1af69d68>,\n",
       "  <matplotlib.axis.YTick at 0x1a1af939e8>,\n",
       "  <matplotlib.axis.YTick at 0x1a1af93668>,\n",
       "  <matplotlib.axis.YTick at 0x1a1af93278>,\n",
       "  <matplotlib.axis.YTick at 0x1a1af93588>,\n",
       "  <matplotlib.axis.YTick at 0x1a1af69e10>,\n",
       "  <matplotlib.axis.YTick at 0x1a1d4fd748>,\n",
       "  <matplotlib.axis.YTick at 0x1a1ae8aeb8>,\n",
       "  <matplotlib.axis.YTick at 0x1a1ae8a860>,\n",
       "  <matplotlib.axis.YTick at 0x1a1b7d5358>,\n",
       "  <matplotlib.axis.YTick at 0x1a1b7d5940>,\n",
       "  <matplotlib.axis.YTick at 0x1a1b7cbf98>,\n",
       "  <matplotlib.axis.YTick at 0x1a1b7cb9b0>,\n",
       "  <matplotlib.axis.YTick at 0x1a1b7cbd68>,\n",
       "  <matplotlib.axis.YTick at 0x1a1b7cb438>,\n",
       "  <matplotlib.axis.YTick at 0x1a1ae8ae10>,\n",
       "  <matplotlib.axis.YTick at 0x1a1b7bdf28>,\n",
       "  <matplotlib.axis.YTick at 0x1a1b7bda58>,\n",
       "  <matplotlib.axis.YTick at 0x1a1d639908>,\n",
       "  <matplotlib.axis.YTick at 0x1a1d639550>,\n",
       "  <matplotlib.axis.YTick at 0x1a24d8a2e8>,\n",
       "  <matplotlib.axis.YTick at 0x1a24d8a6a0>,\n",
       "  <matplotlib.axis.YTick at 0x1a24d8aba8>,\n",
       "  <matplotlib.axis.YTick at 0x1a24d8ac50>,\n",
       "  <matplotlib.axis.YTick at 0x1a1d639588>,\n",
       "  <matplotlib.axis.YTick at 0x1a1ae8a358>,\n",
       "  <matplotlib.axis.YTick at 0x1a2531c4a8>,\n",
       "  <matplotlib.axis.YTick at 0x1a2531c9b0>,\n",
       "  <matplotlib.axis.YTick at 0x1a2531ceb8>,\n",
       "  <matplotlib.axis.YTick at 0x1a252f3400>,\n",
       "  <matplotlib.axis.YTick at 0x1a252f3908>,\n",
       "  <matplotlib.axis.YTick at 0x1a252f3e10>,\n",
       "  <matplotlib.axis.YTick at 0x1a2530a358>,\n",
       "  <matplotlib.axis.YTick at 0x1a252f39e8>,\n",
       "  <matplotlib.axis.YTick at 0x1a2531c470>,\n",
       "  <matplotlib.axis.YTick at 0x1a2530a160>,\n",
       "  <matplotlib.axis.YTick at 0x1a2530aba8>,\n",
       "  <matplotlib.axis.YTick at 0x1a1af3c160>,\n",
       "  <matplotlib.axis.YTick at 0x1a1af3c5f8>,\n",
       "  <matplotlib.axis.YTick at 0x1a1af3cb00>,\n",
       "  <matplotlib.axis.YTick at 0x1a1af3d0b8>,\n",
       "  <matplotlib.axis.YTick at 0x1a1af3d550>,\n",
       "  <matplotlib.axis.YTick at 0x1a1af3c6a0>,\n",
       "  <matplotlib.axis.YTick at 0x1a2530ab70>,\n",
       "  <matplotlib.axis.YTick at 0x1a1af3d908>,\n",
       "  <matplotlib.axis.YTick at 0x1a1af3de10>,\n",
       "  <matplotlib.axis.YTick at 0x1a1af40358>,\n",
       "  <matplotlib.axis.YTick at 0x1a1af40860>,\n",
       "  <matplotlib.axis.YTick at 0x1a1af40d68>,\n",
       "  <matplotlib.axis.YTick at 0x1a252ed2b0>,\n",
       "  <matplotlib.axis.YTick at 0x1a252ed7b8>,\n",
       "  <matplotlib.axis.YTick at 0x1a252edcc0>,\n",
       "  <matplotlib.axis.YTick at 0x1a252ed898>,\n",
       "  <matplotlib.axis.YTick at 0x1a1af40400>,\n",
       "  <matplotlib.axis.YTick at 0x1a1af3dd68>,\n",
       "  <matplotlib.axis.YTick at 0x1a252e7550>,\n",
       "  <matplotlib.axis.YTick at 0x1a252e7a58>,\n",
       "  <matplotlib.axis.YTick at 0x1a252e7f60>,\n",
       "  <matplotlib.axis.YTick at 0x1a252df4a8>,\n",
       "  <matplotlib.axis.YTick at 0x1a252df9b0>,\n",
       "  <matplotlib.axis.YTick at 0x1a252dfeb8>,\n",
       "  <matplotlib.axis.YTick at 0x1a252df7b8>,\n",
       "  <matplotlib.axis.YTick at 0x1a252e79b0>,\n",
       "  <matplotlib.axis.YTick at 0x1a252ed5c0>,\n",
       "  <matplotlib.axis.YTick at 0x1a252d87b8>,\n",
       "  <matplotlib.axis.YTick at 0x1a252d8cc0>,\n",
       "  <matplotlib.axis.YTick at 0x1a1dee4208>],\n",
       " <a list of 83 Text yticklabel objects>)"
      ]
     },
     "execution_count": 37,
     "metadata": {},
     "output_type": "execute_result"
    },
    {
     "data": {
      "text/plain": [
       "Text(0.5, 0, 'Relative Importance')"
      ]
     },
     "execution_count": 37,
     "metadata": {},
     "output_type": "execute_result"
    },
    {
     "data": {
      "image/png": "[encoded data removed]",
      "text/plain": [
       "<Figure size 576x1152 with 1 Axes>"
      ]
     },
     "metadata": {
      "needs_background": "light"
     },
     "output_type": "display_data"
    }
   ],
   "source": [
    "# Feature Importance\n",
    "import operator\n",
    "importance = sorted(bst.get_score().items(), key=operator.itemgetter(1))\n",
    "importance_v = np.asarray([x[1] for x in importance],dtype=np.int16)\n",
    "indices = np.asarray([int(x[0].replace('f','')) for x in importance],dtype=np.int8)\n",
    "title = 'XGBoost Feature Importances'\n",
    "\n",
    "plt.figure(figsize=(8,16))\n",
    "plt.title(title)\n",
    "plt.barh(range(len(indices)), importance_v, color='b', align='center')\n",
    "plt.yticks(range(len(indices)), [features[i] for i in indices])\n",
    "plt.xlabel('Relative Importance')\n",
    "plt.show()"
   ]
  },
  {
   "cell_type": "markdown",
   "metadata": {},
   "source": [
    "## StackingCVRegressor"
   ]
  },
  {
   "cell_type": "code",
   "execution_count": 38,
   "metadata": {},
   "outputs": [
    {
     "data": {
      "text/plain": [
       "65"
      ]
     },
     "execution_count": 38,
     "metadata": {},
     "output_type": "execute_result"
    },
    {
     "name": "stdout",
     "output_type": "stream",
     "text": [
      "[00:16:43] WARNING: src/learner.cc:686: Tree method is automatically selected to be 'approx' for faster speed. To use old behavior (exact greedy algorithm on single machine), set tree_method to 'exact'.\n",
      "[01:25:18] WARNING: src/learner.cc:686: Tree method is automatically selected to be 'approx' for faster speed. To use old behavior (exact greedy algorithm on single machine), set tree_method to 'exact'.\n",
      "[02:34:12] WARNING: src/learner.cc:686: Tree method is automatically selected to be 'approx' for faster speed. To use old behavior (exact greedy algorithm on single machine), set tree_method to 'exact'.\n",
      "[03:42:06] WARNING: src/learner.cc:686: Tree method is automatically selected to be 'approx' for faster speed. To use old behavior (exact greedy algorithm on single machine), set tree_method to 'exact'.\n",
      "[04:50:25] WARNING: src/learner.cc:686: Tree method is automatically selected to be 'approx' for faster speed. To use old behavior (exact greedy algorithm on single machine), set tree_method to 'exact'.\n",
      "[06:00:58] WARNING: src/learner.cc:686: Tree method is automatically selected to be 'approx' for faster speed. To use old behavior (exact greedy algorithm on single machine), set tree_method to 'exact'.\n",
      "[07:42:23] WARNING: src/learner.cc:686: Tree method is automatically selected to be 'approx' for faster speed. To use old behavior (exact greedy algorithm on single machine), set tree_method to 'exact'.\n"
     ]
    },
    {
     "data": {
      "text/plain": [
       "StackingCVRegressor(cv=5,\n",
       "          meta_regressor=XGBRegressor(base_score=0.5, booster='gbtree', colsample_bylevel=1,\n",
       "       colsample_bynode=1, colsample_bytree=1, gamma=0,\n",
       "       importance_type='gain', learning_rate=0.1, max_delta_step=0,\n",
       "       max_depth=3, min_child_weight=1, missing=None, n_estimators=100,\n",
       "       n_jobs=1, nthread=None, objective='reg:squarederror',\n",
       "       random_state=0, reg_alpha=0, reg_lambda=1, scale_pos_weight=1,\n",
       "       seed=None, silent=None, subsample=1, verbosity=1),\n",
       "          n_jobs=None, pre_dispatch='2*n_jobs', random_state=3, refit=True,\n",
       "          regressors=(Ridge(alpha=1.0, copy_X=True, fit_intercept=True, max_iter=None,\n",
       "   normalize=False, random_state=None, solver='auto', tol=0.001), LGBMRegressor(boosting_type='gbdt', class_weight=None, colsample_bytree=1.0,\n",
       "       importance_type='split', learning_rate=0.1, max_depth=-1,\n",
       "       min_chil...alpha=0, reg_lambda=1, scale_pos_weight=1,\n",
       "       seed=None, silent=None, subsample=1, verbosity=1)),\n",
       "          shuffle=True, store_train_meta_features=False,\n",
       "          use_features_in_secondary=True, verbose=0)"
      ]
     },
     "execution_count": 38,
     "metadata": {},
     "output_type": "execute_result"
    },
    {
     "name": "stdout",
     "output_type": "stream",
     "text": [
      "Training time: 34059.8013176918\n"
     ]
    }
   ],
   "source": [
    "# Training\n",
    "gc.collect()\n",
    "ts = time.time()\n",
    "\n",
    "xgboost = XGBRegressor(objective='reg:squarederror')\n",
    "\n",
    "# Stack up all the models above, optimized using xgboost\n",
    "stack_gen = StackingCVRegressor(regressors=(lm, lightgbm, xgboost),\n",
    "                                meta_regressor=xgboost,\n",
    "                                random_state=3,\n",
    "                                use_features_in_secondary=True)\n",
    "\n",
    "stack_gen.fit(train_x_norm, train_y)\n",
    "print ('Training time: %s' %(time.time() - ts))"
   ]
  },
  {
   "cell_type": "code",
   "execution_count": 39,
   "metadata": {},
   "outputs": [
    {
     "name": "stdout",
     "output_type": "stream",
     "text": [
      "Train RMSE: 1.047410\n",
      "Val RMSE: 1.149655\n"
     ]
    }
   ],
   "source": [
    "# Performance and test predictions\n",
    "train_pred4, val_pred4 = post_processing(stack_gen, 'stack_gen',\n",
    "                                         train_x_norm, train_y,\n",
    "                                         val_x_norm, val_y)"
   ]
  },
  {
   "cell_type": "markdown",
   "metadata": {},
   "source": [
    "## Results"
   ]
  },
  {
   "cell_type": "code",
   "execution_count": 40,
   "metadata": {},
   "outputs": [
    {
     "name": "stdout",
     "output_type": "stream",
     "text": [
      "{'Rigde': (1.231578561708175, 1.2483180790370727), 'lightgbm': (0.9899664623803331, 1.1674700513107692), 'xgboost': (1.126010212578711, 1.1837702966334356), 'stack_gen': (1.0474103258865044, 1.1496551581200345)}\n"
     ]
    }
   ],
   "source": [
    "print(scoresRMSLE)"
   ]
  },
  {
   "cell_type": "code",
   "execution_count": 41,
   "metadata": {},
   "outputs": [
    {
     "data": {
      "text/plain": [
       "Text(0, 1.231578561708175, '1.2316')"
      ]
     },
     "execution_count": 41,
     "metadata": {},
     "output_type": "execute_result"
    },
    {
     "data": {
      "text/plain": [
       "Text(1, 0.9899664623803331, '0.9900')"
      ]
     },
     "execution_count": 41,
     "metadata": {},
     "output_type": "execute_result"
    },
    {
     "data": {
      "text/plain": [
       "Text(2, 1.126010212578711, '1.1260')"
      ]
     },
     "execution_count": 41,
     "metadata": {},
     "output_type": "execute_result"
    },
    {
     "data": {
      "text/plain": [
       "Text(3, 1.0474103258865044, '1.0474')"
      ]
     },
     "execution_count": 41,
     "metadata": {},
     "output_type": "execute_result"
    },
    {
     "data": {
      "text/plain": [
       "Text(0, 0.5, 'Score (RMSE)')"
      ]
     },
     "execution_count": 41,
     "metadata": {},
     "output_type": "execute_result"
    },
    {
     "data": {
      "text/plain": [
       "Text(0.5, 0, 'Algoritmos de Machine Learning')"
      ]
     },
     "execution_count": 41,
     "metadata": {},
     "output_type": "execute_result"
    },
    {
     "data": {
      "text/plain": [
       "Text(0.5, 1.0, 'Scores dos Modelos (RMSE)')"
      ]
     },
     "execution_count": 41,
     "metadata": {},
     "output_type": "execute_result"
    },
    {
     "data": {
      "image/png": "[encoded data removed]",
      "text/plain": [
       "<Figure size 1296x432 with 1 Axes>"
      ]
     },
     "metadata": {},
     "output_type": "display_data"
    }
   ],
   "source": [
    "# Plot models performance\n",
    "sns.set_style(\"white\")\n",
    "fig = plt.figure(figsize=(18, 6))\n",
    "\n",
    "ax = sns.pointplot(x=list(scoresRMSLE.keys()), y=[resRMSE for resRMSE, _ in scoresRMSLE.values()], markers=['o'], linestyles=['-'])\n",
    "for i, resRMSE in enumerate(scoresRMSLE.values()):\n",
    "    ax.text(i, resRMSE[0] , '{:.4f}'.format(resRMSE[0]), horizontalalignment='left', color='black', weight='semibold', size='20')\n",
    "\n",
    "plt.ylabel('Score (RMSE)', size=15, labelpad=12.5)\n",
    "plt.xlabel('Algoritmos de Machine Learning', size=15, labelpad=12.5)\n",
    "plt.tick_params(axis='x', labelsize=13.5)\n",
    "plt.tick_params(axis='y', labelsize=12.5)\n",
    "\n",
    "plt.title('Scores dos Modelos (RMSE)', size=20)\n",
    "\n",
    "plt.show()"
   ]
  },
  {
   "cell_type": "markdown",
   "metadata": {},
   "source": [
    "## Save best model in validation dataset and make predictions and submission"
   ]
  },
  {
   "cell_type": "code",
   "execution_count": 42,
   "metadata": {},
   "outputs": [
    {
     "data": {
      "text/plain": [
       "69"
      ]
     },
     "execution_count": 42,
     "metadata": {},
     "output_type": "execute_result"
    }
   ],
   "source": [
    "gc.collect()\n",
    "pickle.dump(stack_gen, open(\"data/model/stack_gen_model.dat\", \"wb\"))"
   ]
  },
  {
   "cell_type": "code",
   "execution_count": 52,
   "metadata": {},
   "outputs": [
    {
     "data": {
      "text/plain": [
       "StackingCVRegressor(cv=5,\n",
       "          meta_regressor=XGBRegressor(base_score=0.5, booster='gbtree', colsample_bylevel=1,\n",
       "       colsample_bynode=1, colsample_bytree=1, gamma=0,\n",
       "       importance_type='gain', learning_rate=0.1, max_delta_step=0,\n",
       "       max_depth=3, min_child_weight=1, missing=nan, n_estimators=100,\n",
       "       n_jobs=1, nthread=None, objective='reg:squarederror',\n",
       "       random_state=0, reg_alpha=0, reg_lambda=1, scale_pos_weight=1,\n",
       "       seed=None, silent=None, subsample=1, verbosity=1),\n",
       "          n_jobs=None, pre_dispatch='2*n_jobs', random_state=3, refit=True,\n",
       "          regressors=(Ridge(alpha=1.0, copy_X=True, fit_intercept=True, max_iter=None,\n",
       "   normalize=False, random_state=None, solver='auto', tol=0.001), LGBMRegressor(boosting_type='gbdt', class_weight=None, colsample_bytree=1.0,\n",
       "       importance_type='split', learning_rate=0.1, max_depth=-1,\n",
       "       min_chil...alpha=0, reg_lambda=1, scale_pos_weight=1,\n",
       "       seed=None, silent=None, subsample=1, verbosity=1)),\n",
       "          shuffle=True, store_train_meta_features=False,\n",
       "          use_features_in_secondary=True, verbose=0)"
      ]
     },
     "execution_count": 52,
     "metadata": {},
     "output_type": "execute_result"
    }
   ],
   "source": [
    "# Open model\n",
    "model = pickle.load(open(\"data/model/stack_gen_model.dat\", \"rb\"))\n",
    "model"
   ]
  },
  {
   "cell_type": "code",
   "execution_count": 61,
   "metadata": {},
   "outputs": [],
   "source": [
    "# Load dataset Test\n",
    "test   = pd.read_csv('data/origin/test.csv')"
   ]
  },
  {
   "cell_type": "code",
   "execution_count": 62,
   "metadata": {},
   "outputs": [],
   "source": [
    "cols = [c for c in X_train.columns if c not in ['item_category_name', 'date_block_num', 'item_cnt_day',]]\n",
    "\n",
    "test_x = X_test[cols]"
   ]
  },
  {
   "cell_type": "code",
   "execution_count": 63,
   "metadata": {},
   "outputs": [
    {
     "data": {
      "text/plain": [
       "StandardScaler(copy=True, with_mean=True, with_std=True)"
      ]
     },
     "execution_count": 63,
     "metadata": {},
     "output_type": "execute_result"
    }
   ],
   "source": [
    "# Normalise data\n",
    "scaler = preprocessing.StandardScaler()\n",
    "scaler.fit(test_x.values)\n",
    "\n",
    "test_x_norm = scaler.transform(test_x.values)"
   ]
  },
  {
   "cell_type": "code",
   "execution_count": 64,
   "metadata": {},
   "outputs": [],
   "source": [
    "# Predictions and submission\n",
    "pred = model.predict(test_x_norm)\n",
    "\n",
    "test['item_cnt_month'] = pred.clip(0,40)\n",
    "test.drop(['shop_id', 'item_id'], axis=1, inplace=True)\n",
    "test.to_csv('data/submission/submission_final.csv', index=False)"
   ]
  },
  {
   "cell_type": "code",
   "execution_count": null,
   "metadata": {},
   "outputs": [],
   "source": []
  }
 ],
 "metadata": {
  "kernelspec": {
   "display_name": "Python 3",
   "language": "python",
   "name": "python3"
  },
  "language_info": {
   "codemirror_mode": {
    "name": "ipython",
    "version": 3
   },
   "file_extension": ".py",
   "mimetype": "text/x-python",
   "name": "python",
   "nbconvert_exporter": "python",
   "pygments_lexer": "ipython3",
   "version": "3.7.3"
  }
 },
 "nbformat": 4,
 "nbformat_minor": 2
}
