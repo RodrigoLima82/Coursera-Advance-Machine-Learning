{
 "cells": [
  {
   "cell_type": "markdown",
   "metadata": {},
   "source": [
    "# Final Project - Coursera\n",
    "\n",
    "\n",
    "## Goal\n",
    " - This challenge serves as final project for the \"How to win a data science competition\" Coursera course.\n",
    " - In this competition you will work with a challenging time-series dataset consisting of daily sales data, kindly provided by one of the largest Russian software firms - 1C Company. \n",
    " - We are asking you to predict total sales for every product and store in the next month. By solving this competition you will be able to apply and enhance your data science skills."
   ]
  },
  {
   "cell_type": "markdown",
   "metadata": {},
   "source": [
    "# Load libraries"
   ]
  },
  {
   "cell_type": "code",
   "execution_count": 38,
   "metadata": {
    "scrolled": true
   },
   "outputs": [],
   "source": [
    "# Importando bibliotecas que serao utilizadas neste projeto\n",
    "import pandas as pd\n",
    "import numpy as np\n",
    "import seaborn as sns\n",
    "from itertools import product\n",
    "from multiprocessing import Pool\n",
    "import matplotlib.pyplot as plt\n",
    "%matplotlib inline\n",
    "from IPython.core.interactiveshell import InteractiveShell\n",
    "InteractiveShell.ast_node_interactivity = \"all\"\n",
    "from multiprocessing import Pool\n",
    "\n",
    "# Models\n",
    "from sklearn import datasets, linear_model\n",
    "from sklearn.metrics import mean_squared_error\n",
    "from sklearn import preprocessing\n",
    "from sklearn.ensemble import RandomForestRegressor\n",
    "from mlxtend.regressor import StackingCVRegressor\n",
    "from lightgbm import LGBMRegressor\n",
    "from xgboost import XGBRegressor\n",
    "import xgboost as xgb\n",
    "from xgboost import plot_importance\n",
    "\n",
    "# Ignore useless warnings\n",
    "import warnings\n",
    "warnings.filterwarnings(action=\"ignore\")\n",
    "\n",
    "import pickle\n",
    "import datetime\n",
    "import time\n",
    "import gc"
   ]
  },
  {
   "cell_type": "markdown",
   "metadata": {},
   "source": [
    "# Import Data"
   ]
  },
  {
   "cell_type": "code",
   "execution_count": null,
   "metadata": {
    "scrolled": true
   },
   "outputs": [],
   "source": [
    "DATA_FOLDER = 'data/origin/'\n",
    "\n",
    "train           = pd.read_csv(os.path.join(DATA_FOLDER, 'sales_train_v2.csv'))\n",
    "test            = pd.read_csv(os.path.join(DATA_FOLDER, 'test.csv')).set_index('ID')\n",
    "items           = pd.read_csv(os.path.join(DATA_FOLDER, 'items.csv'))\n",
    "item_categories = pd.read_csv(os.path.join(DATA_FOLDER, 'item_categories.csv'))\n",
    "shop            = pd.read_csv(os.path.join(DATA_FOLDER, 'shops.csv'))\n",
    "submission      = pd.read_csv(os.path.join(DATA_FOLDER, 'sample_submission.csv'))"
   ]
  },
  {
   "cell_type": "markdown",
   "metadata": {},
   "source": [
    "# Part 1. EDA & Feature Engineering"
   ]
  },
  {
   "cell_type": "code",
   "execution_count": null,
   "metadata": {},
   "outputs": [],
   "source": [
    "print('Transactions: ', train.shape)\n",
    "print('Test:', test.shape)\n",
    "print('Items: ', items.shape)\n",
    "print('Item Categories: ', item_categories.shape)\n",
    "print('Shops:', shop.shape)"
   ]
  },
  {
   "cell_type": "code",
   "execution_count": null,
   "metadata": {},
   "outputs": [],
   "source": [
    "shop.head()\n",
    "shop.describe()\n",
    "shop.shop_id.unique()"
   ]
  },
  {
   "cell_type": "code",
   "execution_count": null,
   "metadata": {
    "scrolled": false
   },
   "outputs": [],
   "source": [
    "item_categories.head()\n",
    "item_categories.describe()\n",
    "item_categories.item_category_id.unique()"
   ]
  },
  {
   "cell_type": "code",
   "execution_count": null,
   "metadata": {
    "scrolled": false
   },
   "outputs": [],
   "source": [
    "items.head()\n",
    "items.describe()\n",
    "items.item_id.unique().shape[0]"
   ]
  },
  {
   "cell_type": "code",
   "execution_count": null,
   "metadata": {
    "scrolled": false
   },
   "outputs": [],
   "source": [
    "test.head()\n",
    "submission.head()"
   ]
  },
  {
   "cell_type": "code",
   "execution_count": null,
   "metadata": {},
   "outputs": [],
   "source": [
    "train.head()\n",
    "train.describe()"
   ]
  },
  {
   "cell_type": "code",
   "execution_count": null,
   "metadata": {
    "scrolled": false
   },
   "outputs": [],
   "source": [
    "train.date_block_num.plot()"
   ]
  },
  {
   "cell_type": "code",
   "execution_count": null,
   "metadata": {
    "scrolled": false
   },
   "outputs": [],
   "source": [
    "train.drop_duplicates(subset=['item_id', 'shop_id']).plot.scatter('item_id', 'shop_id', color='DarkBlue', s = 0.1)\n",
    "test.drop_duplicates(subset=['item_id', 'shop_id']).plot.scatter('item_id', 'shop_id', color='DarkGreen', s = 0.1)"
   ]
  },
  {
   "cell_type": "markdown",
   "metadata": {},
   "source": [
    "### Plot the feature distributions"
   ]
  },
  {
   "cell_type": "code",
   "execution_count": null,
   "metadata": {},
   "outputs": [],
   "source": [
    "def box_plot(df,f):\n",
    "    plt.figure(figsize=(10,4))\n",
    "    plt.title(f+' distribution')\n",
    "    x_min = int(df[f].min() - (abs(df[f].min())*0.1))\n",
    "    x_max = int(df[f].max() + (abs(df[f].max())*0.1))\n",
    "    if x_min==0:\n",
    "        x_min = -1\n",
    "    if x_max==0:\n",
    "        x_max = 1\n",
    "    plt.xlim(x_min,x_max)\n",
    "    sns.boxplot(x=df[f])\n",
    "\n",
    "plot_features = [x for x in train.columns.values if train[x].dtype != 'object']\n",
    "for f in plot_features:\n",
    "    box_plot(train,f)"
   ]
  },
  {
   "cell_type": "markdown",
   "metadata": {},
   "source": [
    "### Outliers removal"
   ]
  },
  {
   "cell_type": "code",
   "execution_count": null,
   "metadata": {
    "scrolled": true
   },
   "outputs": [],
   "source": [
    "test.merge(train, how='left', on=['shop_id', 'item_id']).isnull().sum()\n",
    "test.shape[0]"
   ]
  },
  {
   "cell_type": "code",
   "execution_count": null,
   "metadata": {},
   "outputs": [],
   "source": [
    "train.item_price.plot()\n",
    "train[train['item_price'] > 100000]\n",
    "items[items['item_id'] == 6066]"
   ]
  },
  {
   "cell_type": "code",
   "execution_count": null,
   "metadata": {},
   "outputs": [],
   "source": [
    "train.item_cnt_day.plot()\n",
    "train[train['item_cnt_day'] > 900]\n",
    "items[(items['item_id'] == 11373) & (items['item_id'] == 20949)]"
   ]
  },
  {
   "cell_type": "code",
   "execution_count": null,
   "metadata": {},
   "outputs": [],
   "source": [
    "train = train[train.item_price < 100000]\n",
    "train = train[train.item_cnt_day <= 900]"
   ]
  },
  {
   "cell_type": "markdown",
   "metadata": {},
   "source": [
    "## Aggregate Data"
   ]
  },
  {
   "cell_type": "code",
   "execution_count": null,
   "metadata": {},
   "outputs": [],
   "source": [
    "# Merge duplicate shops\n",
    "train.loc[train.shop_id == 0, 'shop_id'] = 57\n",
    "train.loc[train.shop_id == 1, 'shop_id'] = 58\n",
    "train.loc[train.shop_id == 10, 'shop_id'] = 11"
   ]
  },
  {
   "cell_type": "code",
   "execution_count": null,
   "metadata": {},
   "outputs": [],
   "source": [
    "index_cols = ['shop_id', 'item_id', 'date_block_num']\n",
    "\n",
    "grid = []\n",
    "for block_num in train['date_block_num'].unique():\n",
    "    cur_shops = train.loc[train['date_block_num'] == block_num, 'shop_id'].unique()\n",
    "    cur_items = train.loc[train['date_block_num'] == block_num, 'item_id'].unique()\n",
    "    grid.append(np.array(list(product(*[cur_shops, cur_items, [block_num]])),dtype='int32'))\n",
    "grid = pd.DataFrame(np.vstack(grid), columns = index_cols,dtype=np.int32)"
   ]
  },
  {
   "cell_type": "code",
   "execution_count": null,
   "metadata": {
    "scrolled": false
   },
   "outputs": [],
   "source": [
    "train_m = train.groupby(['date_block_num','shop_id','item_id']).agg({'item_cnt_day': 'sum','item_price': np.mean}).reset_index()\n",
    "train_m = pd.merge(grid,train_m,on=['date_block_num','shop_id','item_id'],how='left').fillna(0)\n",
    "\n",
    "train_m = pd.merge(train_m,items,on=['item_id'],how='left')\n",
    "train_m = pd.merge(train_m,item_categories, on=['item_category_id'], how='left')"
   ]
  },
  {
   "cell_type": "markdown",
   "metadata": {
    "scrolled": true
   },
   "source": [
    "## Mean encoding"
   ]
  },
  {
   "cell_type": "code",
   "execution_count": null,
   "metadata": {
    "scrolled": true
   },
   "outputs": [],
   "source": [
    "for type_id in ['item_id','shop_id','item_category_id']:\n",
    "    for column_id, agg_func, func_name in [('item_price',np.mean,'avg'),('item_cnt_day',np.sum,'sum'),('item_cnt_day',np.mean,'avg')]:\n",
    "\n",
    "        mean_df = train_m.groupby([type_id,'date_block_num']).agg(agg_func).reset_index()[[column_id,type_id,'date_block_num']]\n",
    "        mean_df.columns = [type_id+'_'+func_name+'_'+column_id, type_id,'date_block_num']\n",
    "        \n",
    "        train_m = pd.merge(train_m,mean_df,on=['date_block_num', type_id],how='left')"
   ]
  },
  {
   "cell_type": "markdown",
   "metadata": {},
   "source": [
    "## Prepare test set"
   ]
  },
  {
   "cell_type": "code",
   "execution_count": null,
   "metadata": {
    "scrolled": false
   },
   "outputs": [],
   "source": [
    "temp_test = test.copy()\n",
    "temp_test['date_block_num'] = 34\n",
    "\n",
    "temp_test = temp_test.merge(items, how='left', on='item_id')\n",
    "temp_test = temp_test.merge(item_categories, how='left', on='item_category_id')\n",
    "temp_test.drop('item_name', axis=1, inplace=True)"
   ]
  },
  {
   "cell_type": "markdown",
   "metadata": {},
   "source": [
    "## Concat Train and Test"
   ]
  },
  {
   "cell_type": "code",
   "execution_count": null,
   "metadata": {
    "scrolled": true
   },
   "outputs": [],
   "source": [
    "train_m.drop('item_name', axis=1, inplace=True)\n",
    "train_m = pd.concat([train_m,temp_test], axis=0, ignore_index=True)"
   ]
  },
  {
   "cell_type": "markdown",
   "metadata": {},
   "source": [
    "We create lags on 10 features. 9 features are from mean encoding and 1 feature is the item_cnt_day.\n",
    "\n",
    "The month lag intervals of 1, 2, 3, 4, 5, 6, 9 and 12 give best score in the leaderboard."
   ]
  },
  {
   "cell_type": "code",
   "execution_count": null,
   "metadata": {
    "scrolled": true
   },
   "outputs": [],
   "source": [
    "lag_variables  = ['item_id_avg_item_price',\n",
    "                  'item_id_sum_item_cnt_day',\n",
    "                  'item_id_avg_item_cnt_day',\n",
    "                  'shop_id_avg_item_price',\n",
    "                  'shop_id_sum_item_cnt_day',\n",
    "                  'shop_id_avg_item_cnt_day',\n",
    "                  'item_category_id_avg_item_price',\n",
    "                  'item_category_id_sum_item_cnt_day',\n",
    "                  'item_category_id_avg_item_cnt_day',\n",
    "                  'item_cnt_day']\n",
    "\n",
    "lags = [1, 2, 3, 4, 5, 6, 9, 12]\n",
    "\n",
    "for lag in lags:\n",
    "    train_new_df = train_m.copy()\n",
    "    train_new_df.date_block_num+=lag\n",
    "    train_new_df = train_new_df[['date_block_num','shop_id','item_id']+lag_variables]\n",
    "    train_new_df.columns = ['date_block_num','shop_id','item_id']+ [lag_feat+'_lag_'+str(lag) for lag_feat in lag_variables]\n",
    "    train_m = train_m.merge(train_new_df,on=['date_block_num','shop_id','item_id'] ,how='left')"
   ]
  },
  {
   "cell_type": "code",
   "execution_count": null,
   "metadata": {},
   "outputs": [],
   "source": [
    "train_m.describe()"
   ]
  },
  {
   "cell_type": "markdown",
   "metadata": {},
   "source": [
    "### Create new time related features"
   ]
  },
  {
   "cell_type": "code",
   "execution_count": null,
   "metadata": {},
   "outputs": [],
   "source": [
    "# Month number\n",
    "train_m['month'] = train_m['date_block_num']%12\n",
    "train_m['month'] = train_m['month']\n",
    "\n",
    "# Number of days in a month, no leap years here\n",
    "days = pd.Series([31,28,31,30,31,30,31,31,30,31,30,31])\n",
    "train_m['days'] = train_m['month'].map(days)"
   ]
  },
  {
   "cell_type": "markdown",
   "metadata": {},
   "source": [
    "### Missing values"
   ]
  },
  {
   "cell_type": "code",
   "execution_count": null,
   "metadata": {},
   "outputs": [],
   "source": [
    "for feat in train_m.columns:\n",
    "    if 'item_cnt' in feat:\n",
    "        train_m[feat]=train_m[feat].fillna(0)\n",
    "    elif 'item_price' in feat:\n",
    "        train_m[feat]=train_m[feat].fillna(train_m[feat].median())"
   ]
  },
  {
   "cell_type": "markdown",
   "metadata": {},
   "source": [
    "### Drop uneccesary columns and take data only after 12 since the most lag month interval is 12."
   ]
  },
  {
   "cell_type": "code",
   "execution_count": null,
   "metadata": {},
   "outputs": [],
   "source": [
    "cols_to_drop = lag_variables[:-1] + ['item_price']\n",
    "train_m = train_m[train_m['date_block_num'] > 12]"
   ]
  },
  {
   "cell_type": "markdown",
   "metadata": {},
   "source": [
    "## Validation"
   ]
  },
  {
   "cell_type": "markdown",
   "metadata": {},
   "source": [
    "We use holdout scheme for cross validation. We use sales month from 12 to 32 for training, month 33 for validation and month 34 for testing."
   ]
  },
  {
   "cell_type": "code",
   "execution_count": null,
   "metadata": {},
   "outputs": [],
   "source": [
    "X_train = train_m[train_m['date_block_num'] < 33].drop(cols_to_drop, axis=1)\n",
    "X_cv    = train_m[train_m['date_block_num'] ==33].drop(cols_to_drop, axis=1)\n",
    "X_test  = train_m[train_m['date_block_num'] ==34].drop(cols_to_drop, axis=1)"
   ]
  },
  {
   "cell_type": "markdown",
   "metadata": {
    "scrolled": true
   },
   "source": [
    "## Reference from discussion"
   ]
  },
  {
   "cell_type": "markdown",
   "metadata": {
    "scrolled": false
   },
   "source": [
    "From discussion in Kaggle forum, we applied this useful trick, which clip the item_cnt_day within 40 instead of 20. In this way, there are more predictions on item_cnt_day = 20."
   ]
  },
  {
   "cell_type": "code",
   "execution_count": null,
   "metadata": {
    "scrolled": false
   },
   "outputs": [],
   "source": [
    "X_train['item_cnt_day'].clip_upper(40, inplace=True)\n",
    "X_train['item_cnt_day'].clip_lower(0, inplace=True)\n",
    "\n",
    "X_cv['item_cnt_day'].clip_upper(40, inplace=True)\n",
    "X_cv['item_cnt_day'].clip_lower(0, inplace=True)\n",
    "\n",
    "X_test['item_cnt_day'].clip_upper(40, inplace=True)\n",
    "X_test['item_cnt_day'].clip_lower(0, inplace=True)"
   ]
  },
  {
   "cell_type": "markdown",
   "metadata": {},
   "source": [
    "### Save files"
   ]
  },
  {
   "cell_type": "code",
   "execution_count": null,
   "metadata": {
    "scrolled": true
   },
   "outputs": [],
   "source": [
    "X_train.to_csv('data/files/X_train.csv', index=False)\n",
    "X_cv.to_csv('data/files/X_cv.csv', index=False)\n",
    "X_test.to_csv('data/files/X_test.csv', index=False)"
   ]
  },
  {
   "cell_type": "markdown",
   "metadata": {},
   "source": [
    "# Part 2. Modelling"
   ]
  },
  {
   "cell_type": "markdown",
   "metadata": {},
   "source": [
    "## 3 distinctively different models are used:\n",
    "\n",
    "- Ridge Regression (Linear)\n",
    "- LightGBM (Tree based)\n",
    "- XGBoost (Tree based)\n",
    "- After each model has been trained, a stacked ensemble model which the three models"
   ]
  },
  {
   "cell_type": "markdown",
   "metadata": {},
   "source": [
    "### Data preparation"
   ]
  },
  {
   "cell_type": "code",
   "execution_count": 3,
   "metadata": {},
   "outputs": [],
   "source": [
    "X_train = pd.read_csv('data/files/X_train.csv')\n",
    "X_cv    = pd.read_csv('data/files/X_cv.csv')"
   ]
  },
  {
   "cell_type": "code",
   "execution_count": 66,
   "metadata": {
    "scrolled": true
   },
   "outputs": [],
   "source": [
    "cols = [c for c in X_train.columns if c not in ['item_category_name', 'date_block_num', 'item_cnt_day',]]\n",
    "\n",
    "train_x = X_train[cols]\n",
    "train_y = X_train['item_cnt_day']\n",
    "val_x   = X_cv[cols]\n",
    "val_y   = X_cv['item_cnt_day']\n",
    "\n",
    "features = list(train_x.columns.values)\n",
    "\n",
    "scoresRMSLE = {}"
   ]
  },
  {
   "cell_type": "code",
   "execution_count": 7,
   "metadata": {},
   "outputs": [
    {
     "data": {
      "text/plain": [
       "StandardScaler(copy=True, with_mean=True, with_std=True)"
      ]
     },
     "execution_count": 7,
     "metadata": {},
     "output_type": "execute_result"
    }
   ],
   "source": [
    "# Normalise data\n",
    "scaler = preprocessing.StandardScaler()\n",
    "scaler.fit(train_x.values)\n",
    "\n",
    "train_x_norm = scaler.transform(train_x.values)\n",
    "val_x_norm   = scaler.transform(val_x.values)"
   ]
  },
  {
   "cell_type": "code",
   "execution_count": 17,
   "metadata": {},
   "outputs": [],
   "source": [
    "def post_processing(model, model_name, train_x, train_y, val_x, val_y):\n",
    "    train_pred = model.predict(train_x)\n",
    "    val_pred   = model.predict(val_x)\n",
    "\n",
    "    # Get rmse scores\n",
    "    train_rmse = np.sqrt(mean_squared_error(train_y, train_pred))\n",
    "    print(\"Train RMSE: %f\" % (train_rmse))\n",
    "    val_rmse = np.sqrt(mean_squared_error(val_y, val_pred))\n",
    "    print(\"Val RMSE: %f\" % (val_rmse))\n",
    "\n",
    "    scoresRMSLE[model_name] = (train_rmse, val_rmse)\n",
    "    \n",
    "    return train_pred,val_pred"
   ]
  },
  {
   "cell_type": "code",
   "execution_count": 11,
   "metadata": {},
   "outputs": [],
   "source": [
    "def plot_feature_importances(importances,indices,features,title,dimensions):\n",
    "    plt.figure(figsize=dimensions)\n",
    "    plt.title(title)\n",
    "    plt.barh(range(len(indices)), importances[indices], color='b', align='center')\n",
    "    plt.yticks(range(len(indices)), [features[i] for i in indices])\n",
    "    plt.xlabel('Relative Importance')\n",
    "    plt.show()   "
   ]
  },
  {
   "cell_type": "markdown",
   "metadata": {},
   "source": [
    "## Ridge Regression"
   ]
  },
  {
   "cell_type": "code",
   "execution_count": 12,
   "metadata": {},
   "outputs": [
    {
     "data": {
      "text/plain": [
       "264"
      ]
     },
     "execution_count": 12,
     "metadata": {},
     "output_type": "execute_result"
    },
    {
     "data": {
      "text/plain": [
       "Ridge(alpha=1.0, copy_X=True, fit_intercept=True, max_iter=None,\n",
       "   normalize=False, random_state=None, solver='auto', tol=0.001)"
      ]
     },
     "execution_count": 12,
     "metadata": {},
     "output_type": "execute_result"
    },
    {
     "name": "stdout",
     "output_type": "stream",
     "text": [
      "Training time: 9.104081153869629\n"
     ]
    }
   ],
   "source": [
    "# Training\n",
    "gc.collect()\n",
    "ts = time.time()\n",
    "\n",
    "lm = linear_model.Ridge()\n",
    "lm.fit(train_x_norm, train_y)\n",
    "print ('Training time: %s' %(time.time() - ts))"
   ]
  },
  {
   "cell_type": "code",
   "execution_count": 20,
   "metadata": {},
   "outputs": [
    {
     "name": "stdout",
     "output_type": "stream",
     "text": [
      "Train RMSE: 1.230800\n",
      "Val RMSE: 1.248100\n"
     ]
    }
   ],
   "source": [
    "# Performance and test predictions\n",
    "train_pred1, val_pred1 = post_processing(lm, 'Rigde',\n",
    "                                         train_x_norm, train_y,\n",
    "                                         val_x_norm, val_y)"
   ]
  },
  {
   "cell_type": "markdown",
   "metadata": {},
   "source": [
    "## LightGBM"
   ]
  },
  {
   "cell_type": "code",
   "execution_count": 23,
   "metadata": {},
   "outputs": [
    {
     "data": {
      "text/plain": [
       "35"
      ]
     },
     "execution_count": 23,
     "metadata": {},
     "output_type": "execute_result"
    },
    {
     "data": {
      "text/plain": [
       "LGBMRegressor(boosting_type='gbdt', class_weight=None, colsample_bytree=1.0,\n",
       "       importance_type='split', learning_rate=0.1, max_depth=-1,\n",
       "       min_child_samples=20, min_child_weight=0.001, min_split_gain=0.0,\n",
       "       n_estimators=100, n_jobs=-1, num_leaves=31, objective=None,\n",
       "       random_state=None, reg_alpha=0.0, reg_lambda=0.0, silent=True,\n",
       "       subsample=1.0, subsample_for_bin=200000, subsample_freq=0)"
      ]
     },
     "execution_count": 23,
     "metadata": {},
     "output_type": "execute_result"
    },
    {
     "name": "stdout",
     "output_type": "stream",
     "text": [
      "Training time: 53.62805891036987\n"
     ]
    }
   ],
   "source": [
    "# Training\n",
    "gc.collect()\n",
    "ts = time.time()\n",
    "\n",
    "# Light Gradient Boosting Regressor\n",
    "lightgbm = LGBMRegressor()\n",
    "lightgbm.fit(train_x_norm, train_y)\n",
    "\n",
    "print ('Training time: %s' %(time.time() - ts))"
   ]
  },
  {
   "cell_type": "code",
   "execution_count": 24,
   "metadata": {},
   "outputs": [
    {
     "name": "stdout",
     "output_type": "stream",
     "text": [
      "Train RMSE: 0.974506\n",
      "Val RMSE: 1.151710\n"
     ]
    }
   ],
   "source": [
    "# Performance and test predictions\n",
    "train_pred2, val_pred2 = post_processing(lightgbm, 'lightgbm',\n",
    "                                         train_x_norm, train_y,\n",
    "                                         val_x_norm, val_y)"
   ]
  },
  {
   "cell_type": "markdown",
   "metadata": {},
   "source": [
    "## XGBoost"
   ]
  },
  {
   "cell_type": "code",
   "execution_count": null,
   "metadata": {},
   "outputs": [
    {
     "data": {
      "text/plain": [
       "358"
      ]
     },
     "execution_count": 72,
     "metadata": {},
     "output_type": "execute_result"
    }
   ],
   "source": [
    "# Training\n",
    "gc.collect()\n",
    "ts = time.time()\n",
    "\n",
    "xgbtrain = xgb.DMatrix(train_x.values, train_y.values)\n",
    "\n",
    "params = {'max_depth':7, \n",
    "         'subsample':1,\n",
    "         'min_child_weight':0.5,\n",
    "         'eta':0.08, \n",
    "         'num_round':1000, \n",
    "         'seed':3,\n",
    "         'silent':True,\n",
    "         'eval_metric':'rmse'}\n",
    "\n",
    "bst = xgb.train(params, xgbtrain)\n",
    "print ('Training time: %s' %(time.time() - ts))"
   ]
  },
  {
   "cell_type": "code",
   "execution_count": null,
   "metadata": {},
   "outputs": [],
   "source": [
    "# Performance and test predictions\n",
    "train_pred3, val_pred3 = post_processing(bst, 'xgboost',\n",
    "                                         xgb.DMatrix(train_x.values), train_y,\n",
    "                                         xgb.DMatrix(val_x.values), val_y)"
   ]
  },
  {
   "cell_type": "code",
   "execution_count": 32,
   "metadata": {},
   "outputs": [
    {
     "data": {
      "text/plain": [
       "<Figure size 576x1152 with 0 Axes>"
      ]
     },
     "execution_count": 32,
     "metadata": {},
     "output_type": "execute_result"
    },
    {
     "data": {
      "text/plain": [
       "Text(0.5, 1.0, 'XGBoost Feature Importances')"
      ]
     },
     "execution_count": 32,
     "metadata": {},
     "output_type": "execute_result"
    },
    {
     "data": {
      "text/plain": [
       "<BarContainer object of 77 artists>"
      ]
     },
     "execution_count": 32,
     "metadata": {},
     "output_type": "execute_result"
    },
    {
     "data": {
      "text/plain": [
       "([<matplotlib.axis.YTick at 0x1a3929a6a0>,\n",
       "  <matplotlib.axis.YTick at 0x1a39287ef0>,\n",
       "  <matplotlib.axis.YTick at 0x1ae7d62860>,\n",
       "  <matplotlib.axis.YTick at 0x1a55fecbe0>,\n",
       "  <matplotlib.axis.YTick at 0x1a55fec9e8>,\n",
       "  <matplotlib.axis.YTick at 0x1a55fda518>,\n",
       "  <matplotlib.axis.YTick at 0x1a55fda9e8>,\n",
       "  <matplotlib.axis.YTick at 0x1a55fdaeb8>,\n",
       "  <matplotlib.axis.YTick at 0x1a55fd73c8>,\n",
       "  <matplotlib.axis.YTick at 0x1a55fda978>,\n",
       "  <matplotlib.axis.YTick at 0x1a55fecac8>,\n",
       "  <matplotlib.axis.YTick at 0x1a55fd7358>,\n",
       "  <matplotlib.axis.YTick at 0x1a55fd7f28>,\n",
       "  <matplotlib.axis.YTick at 0x1a67394438>,\n",
       "  <matplotlib.axis.YTick at 0x1a67394908>,\n",
       "  <matplotlib.axis.YTick at 0x1a67394dd8>,\n",
       "  <matplotlib.axis.YTick at 0x1a673b0320>,\n",
       "  <matplotlib.axis.YTick at 0x1a673b07b8>,\n",
       "  <matplotlib.axis.YTick at 0x1a673b0c88>,\n",
       "  <matplotlib.axis.YTick at 0x1a67394898>,\n",
       "  <matplotlib.axis.YTick at 0x1a55fd7860>,\n",
       "  <matplotlib.axis.YTick at 0x1a673b00b8>,\n",
       "  <matplotlib.axis.YTick at 0x1a6738a438>,\n",
       "  <matplotlib.axis.YTick at 0x1a6738a908>,\n",
       "  <matplotlib.axis.YTick at 0x1a6738add8>,\n",
       "  <matplotlib.axis.YTick at 0x1adcc97320>,\n",
       "  <matplotlib.axis.YTick at 0x1adcc977b8>,\n",
       "  <matplotlib.axis.YTick at 0x1adcc97c88>,\n",
       "  <matplotlib.axis.YTick at 0x1adcc97ba8>,\n",
       "  <matplotlib.axis.YTick at 0x1adcc97898>,\n",
       "  <matplotlib.axis.YTick at 0x1a673b0198>,\n",
       "  <matplotlib.axis.YTick at 0x1adccae4e0>,\n",
       "  <matplotlib.axis.YTick at 0x1adccae978>,\n",
       "  <matplotlib.axis.YTick at 0x1adccaee48>,\n",
       "  <matplotlib.axis.YTick at 0x1adcca9358>,\n",
       "  <matplotlib.axis.YTick at 0x1adcca9828>,\n",
       "  <matplotlib.axis.YTick at 0x1adcca9cf8>,\n",
       "  <matplotlib.axis.YTick at 0x1adcca0240>,\n",
       "  <matplotlib.axis.YTick at 0x1adcca9da0>,\n",
       "  <matplotlib.axis.YTick at 0x1adccae898>,\n",
       "  <matplotlib.axis.YTick at 0x1a673b09e8>,\n",
       "  <matplotlib.axis.YTick at 0x1adcca06a0>,\n",
       "  <matplotlib.axis.YTick at 0x1adcca0b38>,\n",
       "  <matplotlib.axis.YTick at 0x1adcca0e48>,\n",
       "  <matplotlib.axis.YTick at 0x1a448e5518>,\n",
       "  <matplotlib.axis.YTick at 0x1a448e59e8>,\n",
       "  <matplotlib.axis.YTick at 0x1a448e5eb8>,\n",
       "  <matplotlib.axis.YTick at 0x1a449003c8>,\n",
       "  <matplotlib.axis.YTick at 0x1a448e5748>,\n",
       "  <matplotlib.axis.YTick at 0x1a55fd7b00>,\n",
       "  <matplotlib.axis.YTick at 0x1a44900128>,\n",
       "  <matplotlib.axis.YTick at 0x1a44900ac8>,\n",
       "  <matplotlib.axis.YTick at 0x1a44900f60>,\n",
       "  <matplotlib.axis.YTick at 0x1a448ec4a8>,\n",
       "  <matplotlib.axis.YTick at 0x1a448ec978>,\n",
       "  <matplotlib.axis.YTick at 0x1a448ece48>,\n",
       "  <matplotlib.axis.YTick at 0x1a7d265358>,\n",
       "  <matplotlib.axis.YTick at 0x1a448ec898>,\n",
       "  <matplotlib.axis.YTick at 0x1adccae6d8>,\n",
       "  <matplotlib.axis.YTick at 0x1a44900ba8>,\n",
       "  <matplotlib.axis.YTick at 0x1a7d265048>,\n",
       "  <matplotlib.axis.YTick at 0x1a7d265e48>,\n",
       "  <matplotlib.axis.YTick at 0x1a7d288518>,\n",
       "  <matplotlib.axis.YTick at 0x1a7d2889e8>,\n",
       "  <matplotlib.axis.YTick at 0x1a7d288eb8>,\n",
       "  <matplotlib.axis.YTick at 0x1a7d2833c8>,\n",
       "  <matplotlib.axis.YTick at 0x1a7d283898>,\n",
       "  <matplotlib.axis.YTick at 0x1a7d288dd8>,\n",
       "  <matplotlib.axis.YTick at 0x1a7d2656a0>,\n",
       "  <matplotlib.axis.YTick at 0x1a7d2835f8>,\n",
       "  <matplotlib.axis.YTick at 0x1a7d283e48>,\n",
       "  <matplotlib.axis.YTick at 0x1a7d28c518>,\n",
       "  <matplotlib.axis.YTick at 0x1a7d28c9e8>,\n",
       "  <matplotlib.axis.YTick at 0x1a7d28ceb8>,\n",
       "  <matplotlib.axis.YTick at 0x1aa45d33c8>,\n",
       "  <matplotlib.axis.YTick at 0x1aa45d3898>,\n",
       "  <matplotlib.axis.YTick at 0x1aa45d3d68>],\n",
       " <a list of 77 Text yticklabel objects>)"
      ]
     },
     "execution_count": 32,
     "metadata": {},
     "output_type": "execute_result"
    },
    {
     "data": {
      "text/plain": [
       "Text(0.5, 0, 'Relative Importance')"
      ]
     },
     "execution_count": 32,
     "metadata": {},
     "output_type": "execute_result"
    },
    {
     "data": {
      "image/png": "[encoded data removed]",
      "text/plain": [
       "<Figure size 576x1152 with 1 Axes>"
      ]
     },
     "metadata": {},
     "output_type": "display_data"
    }
   ],
   "source": [
    "# Feature Importance\n",
    "import operator\n",
    "importance = sorted(bst.get_score().items(), key=operator.itemgetter(1))\n",
    "importance_v = np.asarray([x[1] for x in importance],dtype=np.int16)\n",
    "indices = np.asarray([int(x[0].replace('f','')) for x in importance],dtype=np.int8)\n",
    "title = 'XGBoost Feature Importances'\n",
    "\n",
    "plt.figure(figsize=(8,16))\n",
    "plt.title(title)\n",
    "plt.barh(range(len(indices)), importance_v, color='b', align='center')\n",
    "plt.yticks(range(len(indices)), [features[i] for i in indices])\n",
    "plt.xlabel('Relative Importance')\n",
    "plt.show()"
   ]
  },
  {
   "cell_type": "markdown",
   "metadata": {},
   "source": [
    "## StackingCVRegressor"
   ]
  },
  {
   "cell_type": "code",
   "execution_count": null,
   "metadata": {},
   "outputs": [],
   "source": [
    "# Training\n",
    "gc.collect()\n",
    "ts = time.time()\n",
    "\n",
    "xgboost = XGBRegressor(objective='reg:squarederror')\n",
    "\n",
    "# Stack up all the models above, optimized using xgboost\n",
    "stack_gen = StackingCVRegressor(regressors=(lm, lightgbm, xgboost),\n",
    "                                meta_regressor=xgboost,\n",
    "                                random_state=3,\n",
    "                                use_features_in_secondary=True)\n",
    "\n",
    "stack_gen.fit(train_x_norm, train_y)\n",
    "print ('Training time: %s' %(time.time() - ts))"
   ]
  },
  {
   "cell_type": "code",
   "execution_count": null,
   "metadata": {},
   "outputs": [],
   "source": [
    "# Performance and test predictions\n",
    "train_pred4, val_pred4 = post_processing(stack_gen, 'stack_gen',\n",
    "                                         train_x_norm, train_y,\n",
    "                                         val_x_norm, val_y)"
   ]
  },
  {
   "cell_type": "markdown",
   "metadata": {},
   "source": [
    "## Results"
   ]
  },
  {
   "cell_type": "code",
   "execution_count": null,
   "metadata": {},
   "outputs": [],
   "source": [
    "print(scoresRMSLE)"
   ]
  },
  {
   "cell_type": "code",
   "execution_count": null,
   "metadata": {},
   "outputs": [],
   "source": [
    "# Plot models performance\n",
    "sns.set_style(\"white\")\n",
    "fig = plt.figure(figsize=(18, 6))\n",
    "\n",
    "ax = sns.pointplot(x=list(scoresRMSLE.keys()), y=[resRMSE for resRMSE, _ in scoresRMSLE.values()], markers=['o'], linestyles=['-'])\n",
    "for i, resRMSE in enumerate(scoresRMSLE.values()):\n",
    "    ax.text(i, resRMSE[0] , '{:.4f}'.format(resRMSE[0]), horizontalalignment='left', color='black', weight='semibold', size='20')\n",
    "\n",
    "plt.ylabel('Score (RMSE)', size=15, labelpad=12.5)\n",
    "plt.xlabel('Algoritmos de Machine Learning', size=15, labelpad=12.5)\n",
    "plt.tick_params(axis='x', labelsize=13.5)\n",
    "plt.tick_params(axis='y', labelsize=12.5)\n",
    "\n",
    "plt.title('Scores dos Modelos (RMSE)', size=20)\n",
    "\n",
    "plt.show()"
   ]
  },
  {
   "cell_type": "markdown",
   "metadata": {},
   "source": [
    "## Save XGBoost Model and make predictions and submission"
   ]
  },
  {
   "cell_type": "code",
   "execution_count": 67,
   "metadata": {},
   "outputs": [],
   "source": [
    "test   = pd.read_csv('data/origin/test.csv')\n",
    "X_test = pd.read_csv('data/files/X_test.csv')"
   ]
  },
  {
   "cell_type": "code",
   "execution_count": 61,
   "metadata": {},
   "outputs": [
    {
     "data": {
      "text/html": [
       "<div>\n",
       "<style scoped>\n",
       "    .dataframe tbody tr th:only-of-type {\n",
       "        vertical-align: middle;\n",
       "    }\n",
       "\n",
       "    .dataframe tbody tr th {\n",
       "        vertical-align: top;\n",
       "    }\n",
       "\n",
       "    .dataframe thead th {\n",
       "        text-align: right;\n",
       "    }\n",
       "</style>\n",
       "<table border=\"1\" class=\"dataframe\">\n",
       "  <thead>\n",
       "    <tr style=\"text-align: right;\">\n",
       "      <th></th>\n",
       "      <th>date_block_num</th>\n",
       "      <th>item_category_id</th>\n",
       "      <th>item_category_name</th>\n",
       "      <th>item_cnt_day</th>\n",
       "      <th>item_id</th>\n",
       "      <th>shop_id</th>\n",
       "      <th>item_id_avg_item_price_lag_1</th>\n",
       "      <th>item_id_sum_item_cnt_day_lag_1</th>\n",
       "      <th>item_id_avg_item_cnt_day_lag_1</th>\n",
       "      <th>shop_id_avg_item_price_lag_1</th>\n",
       "      <th>...</th>\n",
       "      <th>item_id_avg_item_cnt_day_lag_12</th>\n",
       "      <th>shop_id_avg_item_price_lag_12</th>\n",
       "      <th>shop_id_sum_item_cnt_day_lag_12</th>\n",
       "      <th>shop_id_avg_item_cnt_day_lag_12</th>\n",
       "      <th>item_category_id_avg_item_price_lag_12</th>\n",
       "      <th>item_category_id_sum_item_cnt_day_lag_12</th>\n",
       "      <th>item_category_id_avg_item_cnt_day_lag_12</th>\n",
       "      <th>item_cnt_day_lag_12</th>\n",
       "      <th>month</th>\n",
       "      <th>days</th>\n",
       "    </tr>\n",
       "  </thead>\n",
       "  <tbody>\n",
       "    <tr>\n",
       "      <th>0</th>\n",
       "      <td>34</td>\n",
       "      <td>19</td>\n",
       "      <td>Игры - PS3</td>\n",
       "      <td>0.0</td>\n",
       "      <td>5037</td>\n",
       "      <td>5</td>\n",
       "      <td>579.159091</td>\n",
       "      <td>25.0</td>\n",
       "      <td>0.568182</td>\n",
       "      <td>111.209795</td>\n",
       "      <td>...</td>\n",
       "      <td>1.3</td>\n",
       "      <td>120.061591</td>\n",
       "      <td>1445.0</td>\n",
       "      <td>0.228567</td>\n",
       "      <td>452.155684</td>\n",
       "      <td>6134.0</td>\n",
       "      <td>0.625918</td>\n",
       "      <td>1.0</td>\n",
       "      <td>10</td>\n",
       "      <td>30</td>\n",
       "    </tr>\n",
       "    <tr>\n",
       "      <th>1</th>\n",
       "      <td>34</td>\n",
       "      <td>55</td>\n",
       "      <td>Музыка - CD локального производства</td>\n",
       "      <td>0.0</td>\n",
       "      <td>5320</td>\n",
       "      <td>5</td>\n",
       "      <td>34.813953</td>\n",
       "      <td>0.0</td>\n",
       "      <td>0.000000</td>\n",
       "      <td>102.626336</td>\n",
       "      <td>...</td>\n",
       "      <td>0.0</td>\n",
       "      <td>97.347128</td>\n",
       "      <td>0.0</td>\n",
       "      <td>0.000000</td>\n",
       "      <td>44.715254</td>\n",
       "      <td>0.0</td>\n",
       "      <td>0.000000</td>\n",
       "      <td>0.0</td>\n",
       "      <td>10</td>\n",
       "      <td>30</td>\n",
       "    </tr>\n",
       "    <tr>\n",
       "      <th>2</th>\n",
       "      <td>34</td>\n",
       "      <td>19</td>\n",
       "      <td>Игры - PS3</td>\n",
       "      <td>0.0</td>\n",
       "      <td>5233</td>\n",
       "      <td>5</td>\n",
       "      <td>735.750000</td>\n",
       "      <td>42.0</td>\n",
       "      <td>0.954545</td>\n",
       "      <td>111.209795</td>\n",
       "      <td>...</td>\n",
       "      <td>0.0</td>\n",
       "      <td>97.347128</td>\n",
       "      <td>0.0</td>\n",
       "      <td>0.000000</td>\n",
       "      <td>44.715254</td>\n",
       "      <td>0.0</td>\n",
       "      <td>0.000000</td>\n",
       "      <td>0.0</td>\n",
       "      <td>10</td>\n",
       "      <td>30</td>\n",
       "    </tr>\n",
       "    <tr>\n",
       "      <th>3</th>\n",
       "      <td>34</td>\n",
       "      <td>23</td>\n",
       "      <td>Игры - XBOX 360</td>\n",
       "      <td>0.0</td>\n",
       "      <td>5232</td>\n",
       "      <td>5</td>\n",
       "      <td>511.909091</td>\n",
       "      <td>28.0</td>\n",
       "      <td>0.636364</td>\n",
       "      <td>111.209795</td>\n",
       "      <td>...</td>\n",
       "      <td>0.0</td>\n",
       "      <td>97.347128</td>\n",
       "      <td>0.0</td>\n",
       "      <td>0.000000</td>\n",
       "      <td>44.715254</td>\n",
       "      <td>0.0</td>\n",
       "      <td>0.000000</td>\n",
       "      <td>0.0</td>\n",
       "      <td>10</td>\n",
       "      <td>30</td>\n",
       "    </tr>\n",
       "    <tr>\n",
       "      <th>4</th>\n",
       "      <td>34</td>\n",
       "      <td>20</td>\n",
       "      <td>Игры - PS4</td>\n",
       "      <td>0.0</td>\n",
       "      <td>5268</td>\n",
       "      <td>5</td>\n",
       "      <td>34.813953</td>\n",
       "      <td>0.0</td>\n",
       "      <td>0.000000</td>\n",
       "      <td>102.626336</td>\n",
       "      <td>...</td>\n",
       "      <td>0.0</td>\n",
       "      <td>97.347128</td>\n",
       "      <td>0.0</td>\n",
       "      <td>0.000000</td>\n",
       "      <td>44.715254</td>\n",
       "      <td>0.0</td>\n",
       "      <td>0.000000</td>\n",
       "      <td>0.0</td>\n",
       "      <td>10</td>\n",
       "      <td>30</td>\n",
       "    </tr>\n",
       "  </tbody>\n",
       "</table>\n",
       "<p>5 rows × 88 columns</p>\n",
       "</div>"
      ],
      "text/plain": [
       "   date_block_num  item_category_id                   item_category_name  \\\n",
       "0              34                19                           Игры - PS3   \n",
       "1              34                55  Музыка - CD локального производства   \n",
       "2              34                19                           Игры - PS3   \n",
       "3              34                23                      Игры - XBOX 360   \n",
       "4              34                20                           Игры - PS4   \n",
       "\n",
       "   item_cnt_day  item_id  shop_id  item_id_avg_item_price_lag_1  \\\n",
       "0           0.0     5037        5                    579.159091   \n",
       "1           0.0     5320        5                     34.813953   \n",
       "2           0.0     5233        5                    735.750000   \n",
       "3           0.0     5232        5                    511.909091   \n",
       "4           0.0     5268        5                     34.813953   \n",
       "\n",
       "   item_id_sum_item_cnt_day_lag_1  item_id_avg_item_cnt_day_lag_1  \\\n",
       "0                            25.0                        0.568182   \n",
       "1                             0.0                        0.000000   \n",
       "2                            42.0                        0.954545   \n",
       "3                            28.0                        0.636364   \n",
       "4                             0.0                        0.000000   \n",
       "\n",
       "   shop_id_avg_item_price_lag_1  ...  item_id_avg_item_cnt_day_lag_12  \\\n",
       "0                    111.209795  ...                              1.3   \n",
       "1                    102.626336  ...                              0.0   \n",
       "2                    111.209795  ...                              0.0   \n",
       "3                    111.209795  ...                              0.0   \n",
       "4                    102.626336  ...                              0.0   \n",
       "\n",
       "   shop_id_avg_item_price_lag_12  shop_id_sum_item_cnt_day_lag_12  \\\n",
       "0                     120.061591                           1445.0   \n",
       "1                      97.347128                              0.0   \n",
       "2                      97.347128                              0.0   \n",
       "3                      97.347128                              0.0   \n",
       "4                      97.347128                              0.0   \n",
       "\n",
       "   shop_id_avg_item_cnt_day_lag_12  item_category_id_avg_item_price_lag_12  \\\n",
       "0                         0.228567                              452.155684   \n",
       "1                         0.000000                               44.715254   \n",
       "2                         0.000000                               44.715254   \n",
       "3                         0.000000                               44.715254   \n",
       "4                         0.000000                               44.715254   \n",
       "\n",
       "   item_category_id_sum_item_cnt_day_lag_12  \\\n",
       "0                                    6134.0   \n",
       "1                                       0.0   \n",
       "2                                       0.0   \n",
       "3                                       0.0   \n",
       "4                                       0.0   \n",
       "\n",
       "   item_category_id_avg_item_cnt_day_lag_12  item_cnt_day_lag_12  month  days  \n",
       "0                                  0.625918                  1.0     10    30  \n",
       "1                                  0.000000                  0.0     10    30  \n",
       "2                                  0.000000                  0.0     10    30  \n",
       "3                                  0.000000                  0.0     10    30  \n",
       "4                                  0.000000                  0.0     10    30  \n",
       "\n",
       "[5 rows x 88 columns]"
      ]
     },
     "execution_count": 61,
     "metadata": {},
     "output_type": "execute_result"
    }
   ],
   "source": [
    "X_test.head()"
   ]
  },
  {
   "cell_type": "code",
   "execution_count": 70,
   "metadata": {},
   "outputs": [],
   "source": [
    "cols = [c for c in X_train.columns if c not in ['item_category_name', 'date_block_num', 'item_cnt_day',]]\n",
    "\n",
    "train_x = X_train[cols]\n",
    "train_y = X_train['item_cnt_day']\n",
    "val_x   = X_cv[cols]\n",
    "val_y   = X_cv['item_cnt_day']\n",
    "\n",
    "model = xgb.train(params, xgb.DMatrix(train_x, train_y))"
   ]
  },
  {
   "cell_type": "code",
   "execution_count": 71,
   "metadata": {},
   "outputs": [],
   "source": [
    "pred = model.predict(xgb.DMatrix(X_test[cols]), ntree_limit=model.best_ntree_limit)\n",
    "\n",
    "test['item_cnt_month'] = pred.clip(0,40)\n",
    "test.drop(['shop_id', 'item_id'], axis=1, inplace=True)\n",
    "test.to_csv('data/submission/submission_final.csv', index=False)"
   ]
  },
  {
   "cell_type": "code",
   "execution_count": null,
   "metadata": {},
   "outputs": [],
   "source": []
  }
 ],
 "metadata": {
  "kernelspec": {
   "display_name": "Python 3",
   "language": "python",
   "name": "python3"
  },
  "language_info": {
   "codemirror_mode": {
    "name": "ipython",
    "version": 3
   },
   "file_extension": ".py",
   "mimetype": "text/x-python",
   "name": "python",
   "nbconvert_exporter": "python",
   "pygments_lexer": "ipython3",
   "version": "3.7.3"
  }
 },
 "nbformat": 4,
 "nbformat_minor": 2
}
